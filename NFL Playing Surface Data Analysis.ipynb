{
 "cells": [
  {
   "cell_type": "markdown",
   "metadata": {
    "papermill": {
     "duration": 0.060017,
     "end_time": "2021-09-20T18:06:43.181655",
     "exception": false,
     "start_time": "2021-09-20T18:06:43.121638",
     "status": "completed"
    },
    "tags": []
   },
   "source": [
    "# NFL Playing Surface Data Analysis\n",
    "\n",
    "Analysis of three datasets related to the effects that playing on synthetic turf versus natural turf can have on player movements and the factors that may contribute to lower extremity injuries. \n",
    "\n",
    "The data provided for analysis are 250 complete player in-game histories from two subsequent NFL regular seasons. Three different files in .csv format are provided, documenting injuries, player-plays, and player movement during plays:\n",
    "\n",
    "- Injury Record: The injury record file in .csv format contains information on 105 lower-limb injuries that occurred during regular season games over the two seasons. Injuries can be linked to specific records in a player's history using the PlayerKey, GameID, and PlayKey fields.\n",
    "\n",
    "- Play List: – The play list file contains the details for the 267,005 player-plays that make up the dataset. Each player is indexed by PlayerKey, GameID, and PlayKey fields. Details about the game and play include the player’s assigned roster position, stadium type, field type, weather, play type, position for the play, and position group.\n",
    "\n",
    "- Player Track Data: player level data that describes the location, orientation, speed, and direction of each player during a play recorded at 10 Hz (i.e. 10 observations recorded per second)."
   ]
  },
  {
   "cell_type": "code",
   "execution_count": 1,
   "metadata": {
    "execution": {
     "iopub.execute_input": "2021-09-20T18:06:43.307978Z",
     "iopub.status.busy": "2021-09-20T18:06:43.307359Z",
     "iopub.status.idle": "2021-09-20T18:06:44.176170Z",
     "shell.execute_reply": "2021-09-20T18:06:44.175487Z",
     "shell.execute_reply.started": "2021-09-20T17:42:40.708681Z"
    },
    "papermill": {
     "duration": 0.936945,
     "end_time": "2021-09-20T18:06:44.176333",
     "exception": false,
     "start_time": "2021-09-20T18:06:43.239388",
     "status": "completed"
    },
    "tags": []
   },
   "outputs": [],
   "source": [
    "import numpy as np\n",
    "import pandas as pd\n",
    "import matplotlib.pyplot as plt\n",
    "import seaborn as sns\n",
    "%matplotlib inline"
   ]
  },
  {
   "cell_type": "code",
   "execution_count": 2,
   "metadata": {
    "execution": {
     "iopub.execute_input": "2021-09-20T18:06:44.295965Z",
     "iopub.status.busy": "2021-09-20T18:06:44.293903Z",
     "iopub.status.idle": "2021-09-20T18:06:44.308876Z",
     "shell.execute_reply": "2021-09-20T18:06:44.308296Z",
     "shell.execute_reply.started": "2021-09-20T17:42:59.341559Z"
    },
    "papermill": {
     "duration": 0.07485,
     "end_time": "2021-09-20T18:06:44.309018",
     "exception": false,
     "start_time": "2021-09-20T18:06:44.234168",
     "status": "completed"
    },
    "tags": []
   },
   "outputs": [],
   "source": [
    "injury_df = pd.read_csv('InjuryRecord.csv')"
   ]
  },
  {
   "cell_type": "code",
   "execution_count": 3,
   "metadata": {
    "execution": {
     "iopub.execute_input": "2021-09-20T18:06:44.430150Z",
     "iopub.status.busy": "2021-09-20T18:06:44.429448Z",
     "iopub.status.idle": "2021-09-20T18:06:45.070600Z",
     "shell.execute_reply": "2021-09-20T18:06:45.071101Z",
     "shell.execute_reply.started": "2021-09-20T17:43:00.825397Z"
    },
    "papermill": {
     "duration": 0.703582,
     "end_time": "2021-09-20T18:06:45.071269",
     "exception": false,
     "start_time": "2021-09-20T18:06:44.367687",
     "status": "completed"
    },
    "tags": []
   },
   "outputs": [],
   "source": [
    "play_list_df = pd.read_csv('Playlist.csv')"
   ]
  },
  {
   "cell_type": "code",
   "execution_count": 4,
   "metadata": {
    "execution": {
     "iopub.execute_input": "2021-09-20T18:06:45.211478Z",
     "iopub.status.busy": "2021-09-20T18:06:45.210601Z",
     "iopub.status.idle": "2021-09-20T18:08:17.869647Z",
     "shell.execute_reply": "2021-09-20T18:08:17.868767Z",
     "shell.execute_reply.started": "2021-09-20T17:43:03.284650Z"
    },
    "papermill": {
     "duration": 92.741674,
     "end_time": "2021-09-20T18:08:17.869818",
     "exception": false,
     "start_time": "2021-09-20T18:06:45.128144",
     "status": "completed"
    },
    "tags": []
   },
   "outputs": [],
   "source": [
    "player_track_df = pd.read_csv('PlayerTrackData.csv')"
   ]
  },
  {
   "cell_type": "code",
   "execution_count": 5,
   "metadata": {
    "_kg_hide-output": true,
    "execution": {
     "iopub.execute_input": "2021-09-20T18:08:17.996459Z",
     "iopub.status.busy": "2021-09-20T18:08:17.988232Z",
     "iopub.status.idle": "2021-09-20T18:08:18.009919Z",
     "shell.execute_reply": "2021-09-20T18:08:18.010349Z",
     "shell.execute_reply.started": "2021-09-20T17:45:06.067952Z"
    },
    "papermill": {
     "duration": 0.082566,
     "end_time": "2021-09-20T18:08:18.010521",
     "exception": false,
     "start_time": "2021-09-20T18:08:17.927955",
     "status": "completed"
    },
    "tags": []
   },
   "outputs": [
    {
     "data": {
      "text/html": [
       "<div>\n",
       "<style scoped>\n",
       "    .dataframe tbody tr th:only-of-type {\n",
       "        vertical-align: middle;\n",
       "    }\n",
       "\n",
       "    .dataframe tbody tr th {\n",
       "        vertical-align: top;\n",
       "    }\n",
       "\n",
       "    .dataframe thead th {\n",
       "        text-align: right;\n",
       "    }\n",
       "</style>\n",
       "<table border=\"1\" class=\"dataframe\">\n",
       "  <thead>\n",
       "    <tr style=\"text-align: right;\">\n",
       "      <th></th>\n",
       "      <th>PlayerKey</th>\n",
       "      <th>GameID</th>\n",
       "      <th>PlayKey</th>\n",
       "      <th>BodyPart</th>\n",
       "      <th>Surface</th>\n",
       "      <th>DM_M1</th>\n",
       "      <th>DM_M7</th>\n",
       "      <th>DM_M28</th>\n",
       "      <th>DM_M42</th>\n",
       "    </tr>\n",
       "  </thead>\n",
       "  <tbody>\n",
       "    <tr>\n",
       "      <th>0</th>\n",
       "      <td>39873</td>\n",
       "      <td>39873-4</td>\n",
       "      <td>39873-4-32</td>\n",
       "      <td>Knee</td>\n",
       "      <td>Synthetic</td>\n",
       "      <td>1</td>\n",
       "      <td>1</td>\n",
       "      <td>1</td>\n",
       "      <td>1</td>\n",
       "    </tr>\n",
       "    <tr>\n",
       "      <th>1</th>\n",
       "      <td>46074</td>\n",
       "      <td>46074-7</td>\n",
       "      <td>46074-7-26</td>\n",
       "      <td>Knee</td>\n",
       "      <td>Natural</td>\n",
       "      <td>1</td>\n",
       "      <td>1</td>\n",
       "      <td>0</td>\n",
       "      <td>0</td>\n",
       "    </tr>\n",
       "    <tr>\n",
       "      <th>2</th>\n",
       "      <td>36557</td>\n",
       "      <td>36557-1</td>\n",
       "      <td>36557-1-70</td>\n",
       "      <td>Ankle</td>\n",
       "      <td>Synthetic</td>\n",
       "      <td>1</td>\n",
       "      <td>1</td>\n",
       "      <td>1</td>\n",
       "      <td>1</td>\n",
       "    </tr>\n",
       "    <tr>\n",
       "      <th>3</th>\n",
       "      <td>46646</td>\n",
       "      <td>46646-3</td>\n",
       "      <td>46646-3-30</td>\n",
       "      <td>Ankle</td>\n",
       "      <td>Natural</td>\n",
       "      <td>1</td>\n",
       "      <td>0</td>\n",
       "      <td>0</td>\n",
       "      <td>0</td>\n",
       "    </tr>\n",
       "    <tr>\n",
       "      <th>4</th>\n",
       "      <td>43532</td>\n",
       "      <td>43532-5</td>\n",
       "      <td>43532-5-69</td>\n",
       "      <td>Ankle</td>\n",
       "      <td>Synthetic</td>\n",
       "      <td>1</td>\n",
       "      <td>1</td>\n",
       "      <td>1</td>\n",
       "      <td>1</td>\n",
       "    </tr>\n",
       "  </tbody>\n",
       "</table>\n",
       "</div>"
      ],
      "text/plain": [
       "   PlayerKey   GameID     PlayKey BodyPart    Surface  DM_M1  DM_M7  DM_M28  \\\n",
       "0      39873  39873-4  39873-4-32     Knee  Synthetic      1      1       1   \n",
       "1      46074  46074-7  46074-7-26     Knee    Natural      1      1       0   \n",
       "2      36557  36557-1  36557-1-70    Ankle  Synthetic      1      1       1   \n",
       "3      46646  46646-3  46646-3-30    Ankle    Natural      1      0       0   \n",
       "4      43532  43532-5  43532-5-69    Ankle  Synthetic      1      1       1   \n",
       "\n",
       "   DM_M42  \n",
       "0       1  \n",
       "1       0  \n",
       "2       1  \n",
       "3       0  \n",
       "4       1  "
      ]
     },
     "execution_count": 5,
     "metadata": {},
     "output_type": "execute_result"
    }
   ],
   "source": [
    "injury_df.head()"
   ]
  },
  {
   "cell_type": "code",
   "execution_count": 6,
   "metadata": {
    "_kg_hide-output": true,
    "execution": {
     "iopub.execute_input": "2021-09-20T18:08:18.130005Z",
     "iopub.status.busy": "2021-09-20T18:08:18.129439Z",
     "iopub.status.idle": "2021-09-20T18:08:18.143085Z",
     "shell.execute_reply": "2021-09-20T18:08:18.143472Z",
     "shell.execute_reply.started": "2021-09-20T17:45:23.356365Z"
    },
    "papermill": {
     "duration": 0.074631,
     "end_time": "2021-09-20T18:08:18.143648",
     "exception": false,
     "start_time": "2021-09-20T18:08:18.069017",
     "status": "completed"
    },
    "scrolled": true,
    "tags": []
   },
   "outputs": [
    {
     "data": {
      "text/html": [
       "<div>\n",
       "<style scoped>\n",
       "    .dataframe tbody tr th:only-of-type {\n",
       "        vertical-align: middle;\n",
       "    }\n",
       "\n",
       "    .dataframe tbody tr th {\n",
       "        vertical-align: top;\n",
       "    }\n",
       "\n",
       "    .dataframe thead th {\n",
       "        text-align: right;\n",
       "    }\n",
       "</style>\n",
       "<table border=\"1\" class=\"dataframe\">\n",
       "  <thead>\n",
       "    <tr style=\"text-align: right;\">\n",
       "      <th></th>\n",
       "      <th>PlayerKey</th>\n",
       "      <th>GameID</th>\n",
       "      <th>PlayKey</th>\n",
       "      <th>RosterPosition</th>\n",
       "      <th>PlayerDay</th>\n",
       "      <th>PlayerGame</th>\n",
       "      <th>StadiumType</th>\n",
       "      <th>FieldType</th>\n",
       "      <th>Temperature</th>\n",
       "      <th>Weather</th>\n",
       "      <th>PlayType</th>\n",
       "      <th>PlayerGamePlay</th>\n",
       "      <th>Position</th>\n",
       "      <th>PositionGroup</th>\n",
       "    </tr>\n",
       "  </thead>\n",
       "  <tbody>\n",
       "    <tr>\n",
       "      <th>0</th>\n",
       "      <td>26624</td>\n",
       "      <td>26624-1</td>\n",
       "      <td>26624-1-1</td>\n",
       "      <td>Quarterback</td>\n",
       "      <td>1</td>\n",
       "      <td>1</td>\n",
       "      <td>Outdoor</td>\n",
       "      <td>Synthetic</td>\n",
       "      <td>63</td>\n",
       "      <td>Clear and warm</td>\n",
       "      <td>Pass</td>\n",
       "      <td>1</td>\n",
       "      <td>QB</td>\n",
       "      <td>QB</td>\n",
       "    </tr>\n",
       "    <tr>\n",
       "      <th>1</th>\n",
       "      <td>26624</td>\n",
       "      <td>26624-1</td>\n",
       "      <td>26624-1-2</td>\n",
       "      <td>Quarterback</td>\n",
       "      <td>1</td>\n",
       "      <td>1</td>\n",
       "      <td>Outdoor</td>\n",
       "      <td>Synthetic</td>\n",
       "      <td>63</td>\n",
       "      <td>Clear and warm</td>\n",
       "      <td>Pass</td>\n",
       "      <td>2</td>\n",
       "      <td>QB</td>\n",
       "      <td>QB</td>\n",
       "    </tr>\n",
       "    <tr>\n",
       "      <th>2</th>\n",
       "      <td>26624</td>\n",
       "      <td>26624-1</td>\n",
       "      <td>26624-1-3</td>\n",
       "      <td>Quarterback</td>\n",
       "      <td>1</td>\n",
       "      <td>1</td>\n",
       "      <td>Outdoor</td>\n",
       "      <td>Synthetic</td>\n",
       "      <td>63</td>\n",
       "      <td>Clear and warm</td>\n",
       "      <td>Rush</td>\n",
       "      <td>3</td>\n",
       "      <td>QB</td>\n",
       "      <td>QB</td>\n",
       "    </tr>\n",
       "    <tr>\n",
       "      <th>3</th>\n",
       "      <td>26624</td>\n",
       "      <td>26624-1</td>\n",
       "      <td>26624-1-4</td>\n",
       "      <td>Quarterback</td>\n",
       "      <td>1</td>\n",
       "      <td>1</td>\n",
       "      <td>Outdoor</td>\n",
       "      <td>Synthetic</td>\n",
       "      <td>63</td>\n",
       "      <td>Clear and warm</td>\n",
       "      <td>Rush</td>\n",
       "      <td>4</td>\n",
       "      <td>QB</td>\n",
       "      <td>QB</td>\n",
       "    </tr>\n",
       "    <tr>\n",
       "      <th>4</th>\n",
       "      <td>26624</td>\n",
       "      <td>26624-1</td>\n",
       "      <td>26624-1-5</td>\n",
       "      <td>Quarterback</td>\n",
       "      <td>1</td>\n",
       "      <td>1</td>\n",
       "      <td>Outdoor</td>\n",
       "      <td>Synthetic</td>\n",
       "      <td>63</td>\n",
       "      <td>Clear and warm</td>\n",
       "      <td>Pass</td>\n",
       "      <td>5</td>\n",
       "      <td>QB</td>\n",
       "      <td>QB</td>\n",
       "    </tr>\n",
       "  </tbody>\n",
       "</table>\n",
       "</div>"
      ],
      "text/plain": [
       "   PlayerKey   GameID    PlayKey RosterPosition  PlayerDay  PlayerGame  \\\n",
       "0      26624  26624-1  26624-1-1    Quarterback          1           1   \n",
       "1      26624  26624-1  26624-1-2    Quarterback          1           1   \n",
       "2      26624  26624-1  26624-1-3    Quarterback          1           1   \n",
       "3      26624  26624-1  26624-1-4    Quarterback          1           1   \n",
       "4      26624  26624-1  26624-1-5    Quarterback          1           1   \n",
       "\n",
       "  StadiumType  FieldType  Temperature         Weather PlayType  \\\n",
       "0     Outdoor  Synthetic           63  Clear and warm     Pass   \n",
       "1     Outdoor  Synthetic           63  Clear and warm     Pass   \n",
       "2     Outdoor  Synthetic           63  Clear and warm     Rush   \n",
       "3     Outdoor  Synthetic           63  Clear and warm     Rush   \n",
       "4     Outdoor  Synthetic           63  Clear and warm     Pass   \n",
       "\n",
       "   PlayerGamePlay Position PositionGroup  \n",
       "0               1       QB            QB  \n",
       "1               2       QB            QB  \n",
       "2               3       QB            QB  \n",
       "3               4       QB            QB  \n",
       "4               5       QB            QB  "
      ]
     },
     "execution_count": 6,
     "metadata": {},
     "output_type": "execute_result"
    }
   ],
   "source": [
    "play_list_df.head()"
   ]
  },
  {
   "cell_type": "code",
   "execution_count": 7,
   "metadata": {
    "_kg_hide-input": true,
    "execution": {
     "iopub.execute_input": "2021-09-20T18:08:18.269235Z",
     "iopub.status.busy": "2021-09-20T18:08:18.268592Z",
     "iopub.status.idle": "2021-09-20T18:08:18.282207Z",
     "shell.execute_reply": "2021-09-20T18:08:18.282762Z",
     "shell.execute_reply.started": "2021-09-20T17:45:23.983967Z"
    },
    "papermill": {
     "duration": 0.08081,
     "end_time": "2021-09-20T18:08:18.282928",
     "exception": false,
     "start_time": "2021-09-20T18:08:18.202118",
     "status": "completed"
    },
    "tags": []
   },
   "outputs": [
    {
     "data": {
      "text/html": [
       "<div>\n",
       "<style scoped>\n",
       "    .dataframe tbody tr th:only-of-type {\n",
       "        vertical-align: middle;\n",
       "    }\n",
       "\n",
       "    .dataframe tbody tr th {\n",
       "        vertical-align: top;\n",
       "    }\n",
       "\n",
       "    .dataframe thead th {\n",
       "        text-align: right;\n",
       "    }\n",
       "</style>\n",
       "<table border=\"1\" class=\"dataframe\">\n",
       "  <thead>\n",
       "    <tr style=\"text-align: right;\">\n",
       "      <th></th>\n",
       "      <th>PlayKey</th>\n",
       "      <th>time</th>\n",
       "      <th>event</th>\n",
       "      <th>x</th>\n",
       "      <th>y</th>\n",
       "      <th>dir</th>\n",
       "      <th>dis</th>\n",
       "      <th>o</th>\n",
       "      <th>s</th>\n",
       "    </tr>\n",
       "  </thead>\n",
       "  <tbody>\n",
       "    <tr>\n",
       "      <th>0</th>\n",
       "      <td>26624-1-1</td>\n",
       "      <td>0.0</td>\n",
       "      <td>huddle_start_offense</td>\n",
       "      <td>87.46</td>\n",
       "      <td>28.93</td>\n",
       "      <td>288.24</td>\n",
       "      <td>0.01</td>\n",
       "      <td>262.33</td>\n",
       "      <td>0.13</td>\n",
       "    </tr>\n",
       "    <tr>\n",
       "      <th>1</th>\n",
       "      <td>26624-1-1</td>\n",
       "      <td>0.1</td>\n",
       "      <td>NaN</td>\n",
       "      <td>87.45</td>\n",
       "      <td>28.92</td>\n",
       "      <td>283.91</td>\n",
       "      <td>0.01</td>\n",
       "      <td>261.69</td>\n",
       "      <td>0.12</td>\n",
       "    </tr>\n",
       "    <tr>\n",
       "      <th>2</th>\n",
       "      <td>26624-1-1</td>\n",
       "      <td>0.2</td>\n",
       "      <td>NaN</td>\n",
       "      <td>87.44</td>\n",
       "      <td>28.92</td>\n",
       "      <td>280.40</td>\n",
       "      <td>0.01</td>\n",
       "      <td>261.17</td>\n",
       "      <td>0.12</td>\n",
       "    </tr>\n",
       "    <tr>\n",
       "      <th>3</th>\n",
       "      <td>26624-1-1</td>\n",
       "      <td>0.3</td>\n",
       "      <td>NaN</td>\n",
       "      <td>87.44</td>\n",
       "      <td>28.92</td>\n",
       "      <td>278.79</td>\n",
       "      <td>0.01</td>\n",
       "      <td>260.66</td>\n",
       "      <td>0.10</td>\n",
       "    </tr>\n",
       "    <tr>\n",
       "      <th>4</th>\n",
       "      <td>26624-1-1</td>\n",
       "      <td>0.4</td>\n",
       "      <td>NaN</td>\n",
       "      <td>87.44</td>\n",
       "      <td>28.92</td>\n",
       "      <td>275.44</td>\n",
       "      <td>0.01</td>\n",
       "      <td>260.27</td>\n",
       "      <td>0.09</td>\n",
       "    </tr>\n",
       "    <tr>\n",
       "      <th>5</th>\n",
       "      <td>26624-1-1</td>\n",
       "      <td>0.5</td>\n",
       "      <td>NaN</td>\n",
       "      <td>87.45</td>\n",
       "      <td>28.92</td>\n",
       "      <td>270.06</td>\n",
       "      <td>0.01</td>\n",
       "      <td>260.08</td>\n",
       "      <td>0.07</td>\n",
       "    </tr>\n",
       "    <tr>\n",
       "      <th>6</th>\n",
       "      <td>26624-1-1</td>\n",
       "      <td>0.6</td>\n",
       "      <td>NaN</td>\n",
       "      <td>87.46</td>\n",
       "      <td>28.92</td>\n",
       "      <td>265.05</td>\n",
       "      <td>0.01</td>\n",
       "      <td>260.05</td>\n",
       "      <td>0.05</td>\n",
       "    </tr>\n",
       "    <tr>\n",
       "      <th>7</th>\n",
       "      <td>26624-1-1</td>\n",
       "      <td>0.7</td>\n",
       "      <td>NaN</td>\n",
       "      <td>87.46</td>\n",
       "      <td>28.92</td>\n",
       "      <td>255.75</td>\n",
       "      <td>0.00</td>\n",
       "      <td>260.28</td>\n",
       "      <td>0.02</td>\n",
       "    </tr>\n",
       "    <tr>\n",
       "      <th>8</th>\n",
       "      <td>26624-1-1</td>\n",
       "      <td>0.8</td>\n",
       "      <td>NaN</td>\n",
       "      <td>87.46</td>\n",
       "      <td>28.92</td>\n",
       "      <td>244.56</td>\n",
       "      <td>0.00</td>\n",
       "      <td>260.72</td>\n",
       "      <td>0.01</td>\n",
       "    </tr>\n",
       "    <tr>\n",
       "      <th>9</th>\n",
       "      <td>26624-1-1</td>\n",
       "      <td>0.9</td>\n",
       "      <td>NaN</td>\n",
       "      <td>87.46</td>\n",
       "      <td>28.92</td>\n",
       "      <td>220.57</td>\n",
       "      <td>0.00</td>\n",
       "      <td>261.26</td>\n",
       "      <td>0.01</td>\n",
       "    </tr>\n",
       "    <tr>\n",
       "      <th>10</th>\n",
       "      <td>26624-1-1</td>\n",
       "      <td>1.0</td>\n",
       "      <td>NaN</td>\n",
       "      <td>87.46</td>\n",
       "      <td>28.92</td>\n",
       "      <td>188.42</td>\n",
       "      <td>0.00</td>\n",
       "      <td>261.79</td>\n",
       "      <td>0.00</td>\n",
       "    </tr>\n",
       "    <tr>\n",
       "      <th>11</th>\n",
       "      <td>26624-1-1</td>\n",
       "      <td>1.1</td>\n",
       "      <td>NaN</td>\n",
       "      <td>87.46</td>\n",
       "      <td>28.92</td>\n",
       "      <td>118.12</td>\n",
       "      <td>0.00</td>\n",
       "      <td>262.32</td>\n",
       "      <td>0.01</td>\n",
       "    </tr>\n",
       "    <tr>\n",
       "      <th>12</th>\n",
       "      <td>26624-1-1</td>\n",
       "      <td>1.2</td>\n",
       "      <td>NaN</td>\n",
       "      <td>87.45</td>\n",
       "      <td>28.92</td>\n",
       "      <td>105.26</td>\n",
       "      <td>0.00</td>\n",
       "      <td>262.83</td>\n",
       "      <td>0.01</td>\n",
       "    </tr>\n",
       "    <tr>\n",
       "      <th>13</th>\n",
       "      <td>26624-1-1</td>\n",
       "      <td>1.3</td>\n",
       "      <td>NaN</td>\n",
       "      <td>87.45</td>\n",
       "      <td>28.92</td>\n",
       "      <td>117.95</td>\n",
       "      <td>0.00</td>\n",
       "      <td>263.29</td>\n",
       "      <td>0.01</td>\n",
       "    </tr>\n",
       "    <tr>\n",
       "      <th>14</th>\n",
       "      <td>26624-1-1</td>\n",
       "      <td>1.4</td>\n",
       "      <td>NaN</td>\n",
       "      <td>87.45</td>\n",
       "      <td>28.92</td>\n",
       "      <td>177.22</td>\n",
       "      <td>0.00</td>\n",
       "      <td>263.72</td>\n",
       "      <td>0.00</td>\n",
       "    </tr>\n",
       "  </tbody>\n",
       "</table>\n",
       "</div>"
      ],
      "text/plain": [
       "      PlayKey  time                 event      x      y     dir   dis       o  \\\n",
       "0   26624-1-1   0.0  huddle_start_offense  87.46  28.93  288.24  0.01  262.33   \n",
       "1   26624-1-1   0.1                   NaN  87.45  28.92  283.91  0.01  261.69   \n",
       "2   26624-1-1   0.2                   NaN  87.44  28.92  280.40  0.01  261.17   \n",
       "3   26624-1-1   0.3                   NaN  87.44  28.92  278.79  0.01  260.66   \n",
       "4   26624-1-1   0.4                   NaN  87.44  28.92  275.44  0.01  260.27   \n",
       "5   26624-1-1   0.5                   NaN  87.45  28.92  270.06  0.01  260.08   \n",
       "6   26624-1-1   0.6                   NaN  87.46  28.92  265.05  0.01  260.05   \n",
       "7   26624-1-1   0.7                   NaN  87.46  28.92  255.75  0.00  260.28   \n",
       "8   26624-1-1   0.8                   NaN  87.46  28.92  244.56  0.00  260.72   \n",
       "9   26624-1-1   0.9                   NaN  87.46  28.92  220.57  0.00  261.26   \n",
       "10  26624-1-1   1.0                   NaN  87.46  28.92  188.42  0.00  261.79   \n",
       "11  26624-1-1   1.1                   NaN  87.46  28.92  118.12  0.00  262.32   \n",
       "12  26624-1-1   1.2                   NaN  87.45  28.92  105.26  0.00  262.83   \n",
       "13  26624-1-1   1.3                   NaN  87.45  28.92  117.95  0.00  263.29   \n",
       "14  26624-1-1   1.4                   NaN  87.45  28.92  177.22  0.00  263.72   \n",
       "\n",
       "       s  \n",
       "0   0.13  \n",
       "1   0.12  \n",
       "2   0.12  \n",
       "3   0.10  \n",
       "4   0.09  \n",
       "5   0.07  \n",
       "6   0.05  \n",
       "7   0.02  \n",
       "8   0.01  \n",
       "9   0.01  \n",
       "10  0.00  \n",
       "11  0.01  \n",
       "12  0.01  \n",
       "13  0.01  \n",
       "14  0.00  "
      ]
     },
     "execution_count": 7,
     "metadata": {},
     "output_type": "execute_result"
    }
   ],
   "source": [
    "player_track_df.head(15)"
   ]
  },
  {
   "cell_type": "markdown",
   "metadata": {
    "papermill": {
     "duration": 0.058663,
     "end_time": "2021-09-20T18:08:18.400992",
     "exception": false,
     "start_time": "2021-09-20T18:08:18.342329",
     "status": "completed"
    },
    "tags": []
   },
   "source": [
    "# Data Cleaning and Preparation\n",
    "In this stage the data is checked for accuracy and completeness prior to beginning the analysis. \n",
    "\n",
    "- Remove extraneous data\n",
    "- Check for in missing values\n",
    "- Replace missing values\n",
    "- Delete data that cannot be corrected/replaced\n",
    "- Correct any data formatting issues\n",
    "- Creating new features\n",
    "- Identify errors revealed when new variables are created\n",
    "\n",
    "## Removing Extraneous Data\n",
    "\n",
    "### Play List"
   ]
  },
  {
   "cell_type": "code",
   "execution_count": 8,
   "metadata": {
    "_kg_hide-input": true,
    "execution": {
     "iopub.execute_input": "2021-09-20T18:08:18.521431Z",
     "iopub.status.busy": "2021-09-20T18:08:18.520848Z",
     "iopub.status.idle": "2021-09-20T18:08:18.657989Z",
     "shell.execute_reply": "2021-09-20T18:08:18.658423Z",
     "shell.execute_reply.started": "2021-09-20T17:45:47.425001Z"
    },
    "papermill": {
     "duration": 0.199038,
     "end_time": "2021-09-20T18:08:18.658600",
     "exception": false,
     "start_time": "2021-09-20T18:08:18.459562",
     "status": "completed"
    },
    "scrolled": true,
    "tags": []
   },
   "outputs": [
    {
     "name": "stdout",
     "output_type": "stream",
     "text": [
      "<class 'pandas.core.frame.DataFrame'>\n",
      "RangeIndex: 267005 entries, 0 to 267004\n",
      "Data columns (total 14 columns):\n",
      " #   Column          Non-Null Count   Dtype \n",
      "---  ------          --------------   ----- \n",
      " 0   PlayerKey       267005 non-null  int64 \n",
      " 1   GameID          267005 non-null  object\n",
      " 2   PlayKey         267005 non-null  object\n",
      " 3   RosterPosition  267005 non-null  object\n",
      " 4   PlayerDay       267005 non-null  int64 \n",
      " 5   PlayerGame      267005 non-null  int64 \n",
      " 6   StadiumType     250095 non-null  object\n",
      " 7   FieldType       267005 non-null  object\n",
      " 8   Temperature     267005 non-null  int64 \n",
      " 9   Weather         248314 non-null  object\n",
      " 10  PlayType        266638 non-null  object\n",
      " 11  PlayerGamePlay  267005 non-null  int64 \n",
      " 12  Position        267005 non-null  object\n",
      " 13  PositionGroup   267005 non-null  object\n",
      "dtypes: int64(5), object(9)\n",
      "memory usage: 28.5+ MB\n"
     ]
    }
   ],
   "source": [
    "play_list_df.info()"
   ]
  },
  {
   "cell_type": "markdown",
   "metadata": {
    "papermill": {
     "duration": 0.058162,
     "end_time": "2021-09-20T18:08:18.775544",
     "exception": false,
     "start_time": "2021-09-20T18:08:18.717382",
     "status": "completed"
    },
    "tags": []
   },
   "source": [
    "There are a significant number of rows in play_list_df. We are concerned primarily with the plays associated with injuries. Therefore, we will identify and delete the irrelevant data."
   ]
  },
  {
   "cell_type": "code",
   "execution_count": 9,
   "metadata": {
    "execution": {
     "iopub.execute_input": "2021-09-20T18:08:18.898682Z",
     "iopub.status.busy": "2021-09-20T18:08:18.898131Z",
     "iopub.status.idle": "2021-09-20T18:08:18.941369Z",
     "shell.execute_reply": "2021-09-20T18:08:18.941829Z",
     "shell.execute_reply.started": "2021-09-20T17:45:59.963032Z"
    },
    "papermill": {
     "duration": 0.107105,
     "end_time": "2021-09-20T18:08:18.941988",
     "exception": false,
     "start_time": "2021-09-20T18:08:18.834883",
     "status": "completed"
    },
    "tags": []
   },
   "outputs": [
    {
     "data": {
      "text/plain": [
       "267005"
      ]
     },
     "execution_count": 9,
     "metadata": {},
     "output_type": "execute_result"
    }
   ],
   "source": [
    "#Number of unique PlayKeys in Player List\n",
    "len(pd.unique(play_list_df['PlayKey']))"
   ]
  },
  {
   "cell_type": "code",
   "execution_count": 10,
   "metadata": {
    "execution": {
     "iopub.execute_input": "2021-09-20T18:08:19.063595Z",
     "iopub.status.busy": "2021-09-20T18:08:19.063016Z",
     "iopub.status.idle": "2021-09-20T18:08:19.097918Z",
     "shell.execute_reply": "2021-09-20T18:08:19.098453Z",
     "shell.execute_reply.started": "2021-09-20T17:46:01.278712Z"
    },
    "papermill": {
     "duration": 0.097367,
     "end_time": "2021-09-20T18:08:19.098632",
     "exception": false,
     "start_time": "2021-09-20T18:08:19.001265",
     "status": "completed"
    },
    "scrolled": true,
    "tags": []
   },
   "outputs": [
    {
     "data": {
      "text/plain": [
       "False    266929\n",
       "True         76\n",
       "Name: PlayKey, dtype: int64"
      ]
     },
     "execution_count": 10,
     "metadata": {},
     "output_type": "execute_result"
    }
   ],
   "source": [
    "#Identifying plays in Player List associated with plays in Injury Record\n",
    "play_list_df.PlayKey.isin(injury_df.PlayKey).value_counts()"
   ]
  },
  {
   "cell_type": "code",
   "execution_count": 11,
   "metadata": {
    "execution": {
     "iopub.execute_input": "2021-09-20T18:08:19.221097Z",
     "iopub.status.busy": "2021-09-20T18:08:19.220213Z",
     "iopub.status.idle": "2021-09-20T18:08:19.238655Z",
     "shell.execute_reply": "2021-09-20T18:08:19.239044Z",
     "shell.execute_reply.started": "2021-09-20T17:46:02.872095Z"
    },
    "papermill": {
     "duration": 0.080956,
     "end_time": "2021-09-20T18:08:19.239200",
     "exception": false,
     "start_time": "2021-09-20T18:08:19.158244",
     "status": "completed"
    },
    "tags": []
   },
   "outputs": [
    {
     "data": {
      "text/plain": [
       "False    267005\n",
       "Name: GameID, dtype: int64"
      ]
     },
     "execution_count": 11,
     "metadata": {},
     "output_type": "execute_result"
    }
   ],
   "source": [
    "#Identifying plays in Player List associated with plays in Injury Record\n",
    "play_list_df.GameID.isin(injury_df.PlayKey).value_counts()"
   ]
  },
  {
   "cell_type": "markdown",
   "metadata": {
    "papermill": {
     "duration": 0.059392,
     "end_time": "2021-09-20T18:08:19.358257",
     "exception": false,
     "start_time": "2021-09-20T18:08:19.298865",
     "status": "completed"
    },
    "tags": []
   },
   "source": [
    "There are only <b>76</b> PlayKeys in the player_track_df that are associated with plays in injury records. Therefore, these are the rows containing data on the plays where the injury occured. \n",
    "\n",
    "#### Removing Irrelevant Rows"
   ]
  },
  {
   "cell_type": "code",
   "execution_count": 12,
   "metadata": {
    "execution": {
     "iopub.execute_input": "2021-09-20T18:08:19.481746Z",
     "iopub.status.busy": "2021-09-20T18:08:19.480842Z",
     "iopub.status.idle": "2021-09-20T18:08:19.591252Z",
     "shell.execute_reply": "2021-09-20T18:08:19.591746Z",
     "shell.execute_reply.started": "2021-09-20T17:46:06.777388Z"
    },
    "papermill": {
     "duration": 0.174046,
     "end_time": "2021-09-20T18:08:19.591921",
     "exception": false,
     "start_time": "2021-09-20T18:08:19.417875",
     "status": "completed"
    },
    "tags": []
   },
   "outputs": [],
   "source": [
    "#Dropping rows where PlayKey is not in Injury Record \n",
    "play_list_df.drop(play_list_df[play_list_df.PlayKey.isin(injury_df.PlayKey) == False].index,inplace=True)"
   ]
  },
  {
   "cell_type": "markdown",
   "metadata": {
    "papermill": {
     "duration": 0.059003,
     "end_time": "2021-09-20T18:08:19.710891",
     "exception": false,
     "start_time": "2021-09-20T18:08:19.651888",
     "status": "completed"
    },
    "tags": []
   },
   "source": [
    "### Player Track Data"
   ]
  },
  {
   "cell_type": "code",
   "execution_count": 13,
   "metadata": {
    "_kg_hide-output": true,
    "execution": {
     "iopub.execute_input": "2021-09-20T18:08:19.833459Z",
     "iopub.status.busy": "2021-09-20T18:08:19.832877Z",
     "iopub.status.idle": "2021-09-20T18:08:19.842224Z",
     "shell.execute_reply": "2021-09-20T18:08:19.842985Z",
     "shell.execute_reply.started": "2021-09-20T17:46:08.357552Z"
    },
    "papermill": {
     "duration": 0.072938,
     "end_time": "2021-09-20T18:08:19.843269",
     "exception": false,
     "start_time": "2021-09-20T18:08:19.770331",
     "status": "completed"
    },
    "tags": []
   },
   "outputs": [
    {
     "name": "stdout",
     "output_type": "stream",
     "text": [
      "<class 'pandas.core.frame.DataFrame'>\n",
      "RangeIndex: 76366748 entries, 0 to 76366747\n",
      "Data columns (total 9 columns):\n",
      " #   Column   Dtype  \n",
      "---  ------   -----  \n",
      " 0   PlayKey  object \n",
      " 1   time     float64\n",
      " 2   event    object \n",
      " 3   x        float64\n",
      " 4   y        float64\n",
      " 5   dir      float64\n",
      " 6   dis      float64\n",
      " 7   o        float64\n",
      " 8   s        float64\n",
      "dtypes: float64(7), object(2)\n",
      "memory usage: 5.1+ GB\n"
     ]
    }
   ],
   "source": [
    "player_track_df.info()"
   ]
  },
  {
   "cell_type": "markdown",
   "metadata": {
    "papermill": {
     "duration": 0.060866,
     "end_time": "2021-09-20T18:08:19.968014",
     "exception": false,
     "start_time": "2021-09-20T18:08:19.907148",
     "status": "completed"
    },
    "tags": []
   },
   "source": [
    "There are a significant number of rows in player_track_df. We are concerned primarily with the plays associated with injuries. Therefore, we will identify and delete the irrelevant data."
   ]
  },
  {
   "cell_type": "code",
   "execution_count": 14,
   "metadata": {
    "execution": {
     "iopub.execute_input": "2021-09-20T18:08:20.093781Z",
     "iopub.status.busy": "2021-09-20T18:08:20.093096Z",
     "iopub.status.idle": "2021-09-20T18:08:24.589191Z",
     "shell.execute_reply": "2021-09-20T18:08:24.589647Z",
     "shell.execute_reply.started": "2021-09-20T17:46:19.705524Z"
    },
    "papermill": {
     "duration": 4.561425,
     "end_time": "2021-09-20T18:08:24.589810",
     "exception": false,
     "start_time": "2021-09-20T18:08:20.028385",
     "status": "completed"
    },
    "tags": []
   },
   "outputs": [
    {
     "data": {
      "text/plain": [
       "266960"
      ]
     },
     "execution_count": 14,
     "metadata": {},
     "output_type": "execute_result"
    }
   ],
   "source": [
    "#Number of unique PlayKeys in Player Track Data\n",
    "len(pd.unique(player_track_df['PlayKey']))"
   ]
  },
  {
   "cell_type": "code",
   "execution_count": 15,
   "metadata": {
    "execution": {
     "iopub.execute_input": "2021-09-20T18:08:28.149842Z",
     "iopub.status.busy": "2021-09-20T18:08:27.820950Z",
     "iopub.status.idle": "2021-09-20T18:08:28.153670Z",
     "shell.execute_reply": "2021-09-20T18:08:28.154065Z",
     "shell.execute_reply.started": "2021-09-20T17:46:24.377725Z"
    },
    "papermill": {
     "duration": 3.50426,
     "end_time": "2021-09-20T18:08:28.154234",
     "exception": false,
     "start_time": "2021-09-20T18:08:24.649974",
     "status": "completed"
    },
    "tags": []
   },
   "outputs": [
    {
     "data": {
      "text/plain": [
       "False    76344843\n",
       "True        21905\n",
       "Name: PlayKey, dtype: int64"
      ]
     },
     "execution_count": 15,
     "metadata": {},
     "output_type": "execute_result"
    }
   ],
   "source": [
    "#Identifying plays in Player Track Data associated with plays in Injury Record\n",
    "player_track_df.PlayKey.isin(injury_df.PlayKey).value_counts()"
   ]
  },
  {
   "cell_type": "markdown",
   "metadata": {
    "papermill": {
     "duration": 0.109764,
     "end_time": "2021-09-20T18:08:28.324914",
     "exception": false,
     "start_time": "2021-09-20T18:08:28.215150",
     "status": "completed"
    },
    "tags": []
   },
   "source": [
    "There are only <b>21905</b> rows in the player_track_df that are associated with plays in the injury record. Therefore, these are the rows containing data on the plays where the injury occured. "
   ]
  },
  {
   "cell_type": "code",
   "execution_count": 16,
   "metadata": {
    "execution": {
     "iopub.execute_input": "2021-09-20T18:08:31.501612Z",
     "iopub.status.busy": "2021-09-20T18:08:31.500691Z",
     "iopub.status.idle": "2021-09-20T18:08:52.055803Z",
     "shell.execute_reply": "2021-09-20T18:08:52.056246Z",
     "shell.execute_reply.started": "2021-09-20T17:46:27.956248Z"
    },
    "papermill": {
     "duration": 23.670372,
     "end_time": "2021-09-20T18:08:52.056421",
     "exception": false,
     "start_time": "2021-09-20T18:08:28.386049",
     "status": "completed"
    },
    "tags": []
   },
   "outputs": [],
   "source": [
    "#Dropping rows where PlayKey is not in Injury Record \n",
    "player_track_df.drop(player_track_df[player_track_df.PlayKey.isin(injury_df.PlayKey) == False].index,inplace=True)"
   ]
  },
  {
   "cell_type": "code",
   "execution_count": 17,
   "metadata": {
    "execution": {
     "iopub.execute_input": "2021-09-20T18:08:52.184235Z",
     "iopub.status.busy": "2021-09-20T18:08:52.183371Z",
     "iopub.status.idle": "2021-09-20T18:08:52.187264Z",
     "shell.execute_reply": "2021-09-20T18:08:52.186721Z",
     "shell.execute_reply.started": "2021-09-20T17:46:50.984244Z"
    },
    "papermill": {
     "duration": 0.070593,
     "end_time": "2021-09-20T18:08:52.187389",
     "exception": false,
     "start_time": "2021-09-20T18:08:52.116796",
     "status": "completed"
    },
    "tags": []
   },
   "outputs": [
    {
     "data": {
      "text/plain": [
       "76"
      ]
     },
     "execution_count": 17,
     "metadata": {},
     "output_type": "execute_result"
    }
   ],
   "source": [
    "#Number of unique PlayKeys in Player List\n",
    "len(pd.unique(player_track_df['PlayKey']))"
   ]
  },
  {
   "cell_type": "markdown",
   "metadata": {
    "papermill": {
     "duration": 0.06124,
     "end_time": "2021-09-20T18:08:52.310663",
     "exception": false,
     "start_time": "2021-09-20T18:08:52.249423",
     "status": "completed"
    },
    "tags": []
   },
   "source": [
    "## Checking for missing values\n",
    "\n",
    "### Injury Record"
   ]
  },
  {
   "cell_type": "code",
   "execution_count": 18,
   "metadata": {
    "execution": {
     "iopub.execute_input": "2021-09-20T18:08:52.438703Z",
     "iopub.status.busy": "2021-09-20T18:08:52.437938Z",
     "iopub.status.idle": "2021-09-20T18:08:52.441404Z",
     "shell.execute_reply": "2021-09-20T18:08:52.440937Z",
     "shell.execute_reply.started": "2021-09-20T17:46:50.993468Z"
    },
    "papermill": {
     "duration": 0.06968,
     "end_time": "2021-09-20T18:08:52.441551",
     "exception": false,
     "start_time": "2021-09-20T18:08:52.371871",
     "status": "completed"
    },
    "tags": []
   },
   "outputs": [
    {
     "data": {
      "text/plain": [
       "True"
      ]
     },
     "execution_count": 18,
     "metadata": {},
     "output_type": "execute_result"
    }
   ],
   "source": [
    "#Checking for any missing values\n",
    "injury_df.isnull().values.any()"
   ]
  },
  {
   "cell_type": "code",
   "execution_count": 19,
   "metadata": {
    "_kg_hide-output": true,
    "execution": {
     "iopub.execute_input": "2021-09-20T18:08:52.570448Z",
     "iopub.status.busy": "2021-09-20T18:08:52.569533Z",
     "iopub.status.idle": "2021-09-20T18:08:52.580062Z",
     "shell.execute_reply": "2021-09-20T18:08:52.579596Z",
     "shell.execute_reply.started": "2021-09-20T17:46:59.629320Z"
    },
    "papermill": {
     "duration": 0.077179,
     "end_time": "2021-09-20T18:08:52.580195",
     "exception": false,
     "start_time": "2021-09-20T18:08:52.503016",
     "status": "completed"
    },
    "scrolled": true,
    "tags": []
   },
   "outputs": [
    {
     "name": "stdout",
     "output_type": "stream",
     "text": [
      "<class 'pandas.core.frame.DataFrame'>\n",
      "RangeIndex: 105 entries, 0 to 104\n",
      "Data columns (total 9 columns):\n",
      " #   Column     Non-Null Count  Dtype \n",
      "---  ------     --------------  ----- \n",
      " 0   PlayerKey  105 non-null    int64 \n",
      " 1   GameID     105 non-null    object\n",
      " 2   PlayKey    77 non-null     object\n",
      " 3   BodyPart   105 non-null    object\n",
      " 4   Surface    105 non-null    object\n",
      " 5   DM_M1      105 non-null    int64 \n",
      " 6   DM_M7      105 non-null    int64 \n",
      " 7   DM_M28     105 non-null    int64 \n",
      " 8   DM_M42     105 non-null    int64 \n",
      "dtypes: int64(5), object(4)\n",
      "memory usage: 7.5+ KB\n"
     ]
    }
   ],
   "source": [
    "#Identifying which columns contain missing values\n",
    "injury_df.info()"
   ]
  },
  {
   "cell_type": "markdown",
   "metadata": {
    "papermill": {
     "duration": 0.06123,
     "end_time": "2021-09-20T18:08:52.702513",
     "exception": false,
     "start_time": "2021-09-20T18:08:52.641283",
     "status": "completed"
    },
    "tags": []
   },
   "source": [
    "There are missing values in the \"PlayKey\" Column. \n",
    "\n",
    "PlayKey uniquely identifies plays made by a specific player during a certain game. Missing values mean that there are injuries recorded that are not associated with a specific play during that player's game. Additionally we will not have information on the play from the Play List and Player Track Data. \n",
    "\n",
    "Another thing to note is that there are only 76 unique PlayKeys in the player_track_df and play_list_df that are associated with plays in injury records. Therefore, there is no associated data for the associated rows with missing PLayKeys in injury_df. \n",
    "\n",
    "Therefore, it would be best to drop these rows that do not contain associated values in the other two Dataframe.  "
   ]
  },
  {
   "cell_type": "markdown",
   "metadata": {
    "papermill": {
     "duration": 0.061511,
     "end_time": "2021-09-20T18:08:52.825543",
     "exception": false,
     "start_time": "2021-09-20T18:08:52.764032",
     "status": "completed"
    },
    "tags": []
   },
   "source": [
    "#### Deleting Rows Associated with the Missing Values"
   ]
  },
  {
   "cell_type": "code",
   "execution_count": 20,
   "metadata": {
    "execution": {
     "iopub.execute_input": "2021-09-20T18:08:52.956119Z",
     "iopub.status.busy": "2021-09-20T18:08:52.955512Z",
     "iopub.status.idle": "2021-09-20T18:08:52.958462Z",
     "shell.execute_reply": "2021-09-20T18:08:52.957984Z",
     "shell.execute_reply.started": "2021-09-20T17:47:07.385929Z"
    },
    "papermill": {
     "duration": 0.070886,
     "end_time": "2021-09-20T18:08:52.958626",
     "exception": false,
     "start_time": "2021-09-20T18:08:52.887740",
     "status": "completed"
    },
    "tags": []
   },
   "outputs": [],
   "source": [
    "#Dropping rows with missing values\n",
    "injury_df.dropna(inplace=True)"
   ]
  },
  {
   "cell_type": "code",
   "execution_count": 21,
   "metadata": {
    "execution": {
     "iopub.execute_input": "2021-09-20T18:08:53.091712Z",
     "iopub.status.busy": "2021-09-20T18:08:53.091065Z",
     "iopub.status.idle": "2021-09-20T18:08:53.094303Z",
     "shell.execute_reply": "2021-09-20T18:08:53.093810Z",
     "shell.execute_reply.started": "2021-09-20T17:47:07.809535Z"
    },
    "papermill": {
     "duration": 0.071368,
     "end_time": "2021-09-20T18:08:53.094426",
     "exception": false,
     "start_time": "2021-09-20T18:08:53.023058",
     "status": "completed"
    },
    "tags": []
   },
   "outputs": [
    {
     "data": {
      "text/plain": [
       "False"
      ]
     },
     "execution_count": 21,
     "metadata": {},
     "output_type": "execute_result"
    }
   ],
   "source": [
    "#Checking if any missing values remain\n",
    "injury_df.isnull().values.any()"
   ]
  },
  {
   "cell_type": "markdown",
   "metadata": {
    "papermill": {
     "duration": 0.061114,
     "end_time": "2021-09-20T18:08:53.217284",
     "exception": false,
     "start_time": "2021-09-20T18:08:53.156170",
     "status": "completed"
    },
    "tags": []
   },
   "source": [
    "### Play List"
   ]
  },
  {
   "cell_type": "code",
   "execution_count": 22,
   "metadata": {
    "execution": {
     "iopub.execute_input": "2021-09-20T18:08:53.346649Z",
     "iopub.status.busy": "2021-09-20T18:08:53.346049Z",
     "iopub.status.idle": "2021-09-20T18:08:53.349077Z",
     "shell.execute_reply": "2021-09-20T18:08:53.348565Z",
     "shell.execute_reply.started": "2021-09-20T17:47:09.727763Z"
    },
    "papermill": {
     "duration": 0.069941,
     "end_time": "2021-09-20T18:08:53.349205",
     "exception": false,
     "start_time": "2021-09-20T18:08:53.279264",
     "status": "completed"
    },
    "scrolled": true,
    "tags": []
   },
   "outputs": [
    {
     "data": {
      "text/plain": [
       "True"
      ]
     },
     "execution_count": 22,
     "metadata": {},
     "output_type": "execute_result"
    }
   ],
   "source": [
    "#Checking for any missing values\n",
    "play_list_df.isnull().values.any()"
   ]
  },
  {
   "cell_type": "code",
   "execution_count": 23,
   "metadata": {
    "_kg_hide-output": true,
    "execution": {
     "iopub.execute_input": "2021-09-20T18:08:53.484274Z",
     "iopub.status.busy": "2021-09-20T18:08:53.478147Z",
     "iopub.status.idle": "2021-09-20T18:08:53.487649Z",
     "shell.execute_reply": "2021-09-20T18:08:53.488129Z",
     "shell.execute_reply.started": "2021-09-20T17:47:10.154116Z"
    },
    "papermill": {
     "duration": 0.077032,
     "end_time": "2021-09-20T18:08:53.488291",
     "exception": false,
     "start_time": "2021-09-20T18:08:53.411259",
     "status": "completed"
    },
    "tags": []
   },
   "outputs": [
    {
     "name": "stdout",
     "output_type": "stream",
     "text": [
      "<class 'pandas.core.frame.DataFrame'>\n",
      "Int64Index: 76 entries, 7261 to 266263\n",
      "Data columns (total 14 columns):\n",
      " #   Column          Non-Null Count  Dtype \n",
      "---  ------          --------------  ----- \n",
      " 0   PlayerKey       76 non-null     int64 \n",
      " 1   GameID          76 non-null     object\n",
      " 2   PlayKey         76 non-null     object\n",
      " 3   RosterPosition  76 non-null     object\n",
      " 4   PlayerDay       76 non-null     int64 \n",
      " 5   PlayerGame      76 non-null     int64 \n",
      " 6   StadiumType     72 non-null     object\n",
      " 7   FieldType       76 non-null     object\n",
      " 8   Temperature     76 non-null     int64 \n",
      " 9   Weather         73 non-null     object\n",
      " 10  PlayType        76 non-null     object\n",
      " 11  PlayerGamePlay  76 non-null     int64 \n",
      " 12  Position        76 non-null     object\n",
      " 13  PositionGroup   76 non-null     object\n",
      "dtypes: int64(5), object(9)\n",
      "memory usage: 8.9+ KB\n"
     ]
    }
   ],
   "source": [
    "play_list_df.info()"
   ]
  },
  {
   "cell_type": "markdown",
   "metadata": {
    "papermill": {
     "duration": 0.061477,
     "end_time": "2021-09-20T18:08:53.611735",
     "exception": false,
     "start_time": "2021-09-20T18:08:53.550258",
     "status": "completed"
    },
    "tags": []
   },
   "source": [
    "The \"StadiumType\" and \"Weather\" have missing values.\n",
    "- For missing stadium type values,we will assume the stadium type is either unknown or does not fit into the preset categories (For example, partially Indoors) and represent the value as \"Unknown.\"\n",
    "- For missing weather values, we will assume the game occured in either closed dome/indoor stadium or the weather conditions are not known and represent the value as \"Not Applicable.\""
   ]
  },
  {
   "cell_type": "markdown",
   "metadata": {
    "papermill": {
     "duration": 0.062159,
     "end_time": "2021-09-20T18:08:53.735559",
     "exception": false,
     "start_time": "2021-09-20T18:08:53.673400",
     "status": "completed"
    },
    "tags": []
   },
   "source": [
    "#### Replacing the Missing Values"
   ]
  },
  {
   "cell_type": "code",
   "execution_count": 24,
   "metadata": {
    "execution": {
     "iopub.execute_input": "2021-09-20T18:08:53.868243Z",
     "iopub.status.busy": "2021-09-20T18:08:53.867286Z",
     "iopub.status.idle": "2021-09-20T18:08:53.870054Z",
     "shell.execute_reply": "2021-09-20T18:08:53.869436Z",
     "shell.execute_reply.started": "2021-09-20T17:47:28.464248Z"
    },
    "papermill": {
     "duration": 0.071851,
     "end_time": "2021-09-20T18:08:53.870185",
     "exception": false,
     "start_time": "2021-09-20T18:08:53.798334",
     "status": "completed"
    },
    "tags": []
   },
   "outputs": [],
   "source": [
    "play_list_df['StadiumType'] = play_list_df['StadiumType'].fillna(\"Unknown\")\n",
    "play_list_df['Weather'] = play_list_df['Weather'].fillna(\"Not Applicable\")"
   ]
  },
  {
   "cell_type": "code",
   "execution_count": 25,
   "metadata": {
    "execution": {
     "iopub.execute_input": "2021-09-20T18:08:54.002729Z",
     "iopub.status.busy": "2021-09-20T18:08:54.002084Z",
     "iopub.status.idle": "2021-09-20T18:08:54.004850Z",
     "shell.execute_reply": "2021-09-20T18:08:54.005286Z",
     "shell.execute_reply.started": "2021-09-20T17:47:29.078794Z"
    },
    "papermill": {
     "duration": 0.071957,
     "end_time": "2021-09-20T18:08:54.005442",
     "exception": false,
     "start_time": "2021-09-20T18:08:53.933485",
     "status": "completed"
    },
    "tags": []
   },
   "outputs": [
    {
     "data": {
      "text/plain": [
       "False"
      ]
     },
     "execution_count": 25,
     "metadata": {},
     "output_type": "execute_result"
    }
   ],
   "source": [
    "#Checking if any missing values remain\n",
    "play_list_df.isnull().values.any()"
   ]
  },
  {
   "cell_type": "markdown",
   "metadata": {
    "papermill": {
     "duration": 0.063705,
     "end_time": "2021-09-20T18:08:54.131840",
     "exception": false,
     "start_time": "2021-09-20T18:08:54.068135",
     "status": "completed"
    },
    "tags": []
   },
   "source": [
    "### Player Track Data"
   ]
  },
  {
   "cell_type": "code",
   "execution_count": 26,
   "metadata": {
    "execution": {
     "iopub.execute_input": "2021-09-20T18:08:54.263905Z",
     "iopub.status.busy": "2021-09-20T18:08:54.263287Z",
     "iopub.status.idle": "2021-09-20T18:08:54.268606Z",
     "shell.execute_reply": "2021-09-20T18:08:54.268046Z",
     "shell.execute_reply.started": "2021-09-20T17:47:31.439163Z"
    },
    "papermill": {
     "duration": 0.074607,
     "end_time": "2021-09-20T18:08:54.268877",
     "exception": false,
     "start_time": "2021-09-20T18:08:54.194270",
     "status": "completed"
    },
    "tags": []
   },
   "outputs": [
    {
     "data": {
      "text/plain": [
       "True"
      ]
     },
     "execution_count": 26,
     "metadata": {},
     "output_type": "execute_result"
    }
   ],
   "source": [
    "#Checking for any missing values\n",
    "player_track_df.isnull().values.any()"
   ]
  },
  {
   "cell_type": "code",
   "execution_count": 27,
   "metadata": {
    "execution": {
     "iopub.execute_input": "2021-09-20T18:08:54.399458Z",
     "iopub.status.busy": "2021-09-20T18:08:54.398158Z",
     "iopub.status.idle": "2021-09-20T18:08:54.418190Z",
     "shell.execute_reply": "2021-09-20T18:08:54.417612Z",
     "shell.execute_reply.started": "2021-09-20T17:47:32.477798Z"
    },
    "papermill": {
     "duration": 0.08626,
     "end_time": "2021-09-20T18:08:54.418316",
     "exception": false,
     "start_time": "2021-09-20T18:08:54.332056",
     "status": "completed"
    },
    "tags": []
   },
   "outputs": [
    {
     "data": {
      "text/plain": [
       "PlayKey  time   event  x      y      dir    dis    o      s    \n",
       "False    False  True   False  False  False  False  False  False    21415\n",
       "                False  False  False  False  False  False  False      490\n",
       "dtype: int64"
      ]
     },
     "execution_count": 27,
     "metadata": {},
     "output_type": "execute_result"
    }
   ],
   "source": [
    "#Identifying which columns contain missing values\n",
    "player_track_df.isnull().value_counts()"
   ]
  },
  {
   "cell_type": "markdown",
   "metadata": {
    "papermill": {
     "duration": 0.062406,
     "end_time": "2021-09-20T18:08:54.544411",
     "exception": false,
     "start_time": "2021-09-20T18:08:54.482005",
     "status": "completed"
    },
    "tags": []
   },
   "source": [
    "We see that the \"event\" column has missing values.\n",
    "\n",
    "The event refers to the play details as a function of time during the play. For each play, each subsequent value in this column is a moment in time during the play. Therefore, it is possible the name of the event only appears on the first instant of the play (time = 0.0) and remains blank in the subsequent rows associated with the same event. Nevertheless, we will be dropping the column as it mainly contains categorical data and we will still have all the numeric data available for analysis."
   ]
  },
  {
   "cell_type": "markdown",
   "metadata": {
    "papermill": {
     "duration": 0.062223,
     "end_time": "2021-09-20T18:08:54.669904",
     "exception": false,
     "start_time": "2021-09-20T18:08:54.607681",
     "status": "completed"
    },
    "tags": []
   },
   "source": [
    "#### Dropping Missing Values"
   ]
  },
  {
   "cell_type": "code",
   "execution_count": 28,
   "metadata": {
    "execution": {
     "iopub.execute_input": "2021-09-20T18:08:54.806522Z",
     "iopub.status.busy": "2021-09-20T18:08:54.805909Z",
     "iopub.status.idle": "2021-09-20T18:08:54.808058Z",
     "shell.execute_reply": "2021-09-20T18:08:54.807524Z",
     "shell.execute_reply.started": "2021-09-20T17:47:37.610446Z"
    },
    "papermill": {
     "duration": 0.074542,
     "end_time": "2021-09-20T18:08:54.808183",
     "exception": false,
     "start_time": "2021-09-20T18:08:54.733641",
     "status": "completed"
    },
    "tags": []
   },
   "outputs": [],
   "source": [
    "#Dropping the \"event\" column\n",
    "player_track_df.drop('event', inplace=True, axis=1)"
   ]
  },
  {
   "cell_type": "code",
   "execution_count": 29,
   "metadata": {
    "execution": {
     "iopub.execute_input": "2021-09-20T18:08:54.940027Z",
     "iopub.status.busy": "2021-09-20T18:08:54.939392Z",
     "iopub.status.idle": "2021-09-20T18:08:54.946735Z",
     "shell.execute_reply": "2021-09-20T18:08:54.946202Z",
     "shell.execute_reply.started": "2021-09-20T17:47:38.100391Z"
    },
    "papermill": {
     "duration": 0.074396,
     "end_time": "2021-09-20T18:08:54.946870",
     "exception": false,
     "start_time": "2021-09-20T18:08:54.872474",
     "status": "completed"
    },
    "scrolled": true,
    "tags": []
   },
   "outputs": [
    {
     "data": {
      "text/plain": [
       "False"
      ]
     },
     "execution_count": 29,
     "metadata": {},
     "output_type": "execute_result"
    }
   ],
   "source": [
    "#Checking if any missing values remain\n",
    "player_track_df.isnull().values.any()"
   ]
  },
  {
   "cell_type": "markdown",
   "metadata": {
    "papermill": {
     "duration": 0.064734,
     "end_time": "2021-09-20T18:08:55.075610",
     "exception": false,
     "start_time": "2021-09-20T18:08:55.010876",
     "status": "completed"
    },
    "tags": []
   },
   "source": [
    "## Correct Formatting Issues\n",
    "### Play List\n",
    "#### Stadium Type"
   ]
  },
  {
   "cell_type": "code",
   "execution_count": 30,
   "metadata": {
    "execution": {
     "iopub.execute_input": "2021-09-20T18:08:55.205929Z",
     "iopub.status.busy": "2021-09-20T18:08:55.204875Z",
     "iopub.status.idle": "2021-09-20T18:08:55.211966Z",
     "shell.execute_reply": "2021-09-20T18:08:55.212403Z",
     "shell.execute_reply.started": "2021-09-20T17:47:40.766302Z"
    },
    "papermill": {
     "duration": 0.072944,
     "end_time": "2021-09-20T18:08:55.212578",
     "exception": false,
     "start_time": "2021-09-20T18:08:55.139634",
     "status": "completed"
    },
    "scrolled": true,
    "tags": []
   },
   "outputs": [
    {
     "data": {
      "text/plain": [
       "Outdoor                38\n",
       "Outdoors                8\n",
       "Indoor                  7\n",
       "Unknown                 4\n",
       "Indoors                 3\n",
       "Retractable Roof        3\n",
       "Dome                    2\n",
       "Outddors                2\n",
       "Closed Dome             1\n",
       "Retr. Roof-Closed       1\n",
       "Open                    1\n",
       "Indoor, Roof Closed     1\n",
       "Retr. Roof - Closed     1\n",
       "Retr. Roof - Open       1\n",
       "Indoor, Open Roof       1\n",
       "Oudoor                  1\n",
       "Domed, closed           1\n",
       "Name: StadiumType, dtype: int64"
      ]
     },
     "execution_count": 30,
     "metadata": {},
     "output_type": "execute_result"
    }
   ],
   "source": [
    "play_list_df['StadiumType'].value_counts()"
   ]
  },
  {
   "cell_type": "markdown",
   "metadata": {
    "papermill": {
     "duration": 0.064416,
     "end_time": "2021-09-20T18:08:55.340396",
     "exception": false,
     "start_time": "2021-09-20T18:08:55.275980",
     "status": "completed"
    },
    "tags": []
   },
   "source": [
    "Generally , we are only concerned if the Stadium is indoor or outdoor to understand its exposure to the elements.\n",
    "\n",
    "The inconsistencies in the stadium types will all be attributed as follows:\n",
    "- Outdoor: Outdoors; Oudoor,Outddors; Retr. Roof - Open; Open; Retr. Roof - Open; Indoor, Roof Closed  \n",
    "- Indoor: Indoors; Retr. Roof-Closed; Retr. Roof - Closed; Roof Closed; Dome; Domed, closed; Closed Dome; Indoor, Roof Closed   \n",
    "\n",
    "The following are in and Unknown State so we will classify them all as Unknown\n",
    "- Unknown: Retractable Roof, Indoor, Open Roof\n"
   ]
  },
  {
   "cell_type": "code",
   "execution_count": 31,
   "metadata": {
    "execution": {
     "iopub.execute_input": "2021-09-20T18:08:55.479267Z",
     "iopub.status.busy": "2021-09-20T18:08:55.478260Z",
     "iopub.status.idle": "2021-09-20T18:08:55.483076Z",
     "shell.execute_reply": "2021-09-20T18:08:55.483461Z",
     "shell.execute_reply.started": "2021-09-20T17:47:42.302903Z"
    },
    "papermill": {
     "duration": 0.079564,
     "end_time": "2021-09-20T18:08:55.483644",
     "exception": false,
     "start_time": "2021-09-20T18:08:55.404080",
     "status": "completed"
    },
    "tags": []
   },
   "outputs": [],
   "source": [
    "#Replacing the values\n",
    "play_list_df['StadiumType'].replace('Outdoors','Outdoor', inplace=True)\n",
    "play_list_df['StadiumType'].replace('Oudoor','Outdoor', inplace=True)\n",
    "play_list_df['StadiumType'].replace('Outddors','Outdoor', inplace=True)\n",
    "play_list_df['StadiumType'].replace('Retr. Roof - Open','Outdoor', inplace=True)\n",
    "play_list_df['StadiumType'].replace('Open','Outdoor', inplace=True)\n",
    "\n",
    "play_list_df['StadiumType'].replace('Indoors','Indoor', inplace=True)\n",
    "play_list_df['StadiumType'].replace('Retr. Roof-Closed','Indoor', inplace=True)\n",
    "play_list_df['StadiumType'].replace('Retr. Roof - Closed','Indoor', inplace=True)\n",
    "play_list_df['StadiumType'].replace('Roof Closed','Indoor', inplace=True)\n",
    "play_list_df['StadiumType'].replace('Indoor, Roof Closed','Indoor', inplace=True)\n",
    "play_list_df['StadiumType'].replace('Dome','Indoor', inplace=True)\n",
    "play_list_df['StadiumType'].replace('Domed, closed','Indoor', inplace=True)\n",
    "play_list_df['StadiumType'].replace('Closed Dome','Indoor', inplace=True)\n",
    "\n",
    "play_list_df['StadiumType'].replace('Retractable Roof','Unknown', inplace=True)\n",
    "play_list_df['StadiumType'].replace('Indoor, Open Roof','Unknown', inplace=True)"
   ]
  },
  {
   "cell_type": "markdown",
   "metadata": {
    "papermill": {
     "duration": 0.063142,
     "end_time": "2021-09-20T18:08:55.609977",
     "exception": false,
     "start_time": "2021-09-20T18:08:55.546835",
     "status": "completed"
    },
    "tags": []
   },
   "source": [
    "#### Weather"
   ]
  },
  {
   "cell_type": "code",
   "execution_count": 32,
   "metadata": {
    "_kg_hide-output": true,
    "execution": {
     "iopub.execute_input": "2021-09-20T18:08:55.740036Z",
     "iopub.status.busy": "2021-09-20T18:08:55.739190Z",
     "iopub.status.idle": "2021-09-20T18:08:55.746368Z",
     "shell.execute_reply": "2021-09-20T18:08:55.745948Z",
     "shell.execute_reply.started": "2021-09-20T17:47:44.622830Z"
    },
    "papermill": {
     "duration": 0.07322,
     "end_time": "2021-09-20T18:08:55.746508",
     "exception": false,
     "start_time": "2021-09-20T18:08:55.673288",
     "status": "completed"
    },
    "tags": []
   },
   "outputs": [
    {
     "data": {
      "text/plain": [
       "Cloudy                                                                              13\n",
       "Sunny                                                                               11\n",
       "Partly Cloudy                                                                       11\n",
       "Clear                                                                                7\n",
       "Indoor                                                                               5\n",
       "Rain                                                                                 4\n",
       "Cold                                                                                 3\n",
       "Not Applicable                                                                       3\n",
       "Indoors                                                                              2\n",
       "Cloudy, 50% change of rain                                                           2\n",
       "Clear skies                                                                          2\n",
       "Sun & clouds                                                                         1\n",
       "Coudy                                                                                1\n",
       "Mostly cloudy                                                                        1\n",
       "Mostly sunny                                                                         1\n",
       "Cloudy and Cool                                                                      1\n",
       "Clear and warm                                                                       1\n",
       "Controlled Climate                                                                   1\n",
       "Clear Skies                                                                          1\n",
       "Mostly Sunny                                                                         1\n",
       "Cloudy with periods of rain, thunder possible. Winds shifting to WNW, 10-20 mph.     1\n",
       "Fair                                                                                 1\n",
       "Rain shower                                                                          1\n",
       "Light Rain                                                                           1\n",
       "Name: Weather, dtype: int64"
      ]
     },
     "execution_count": 32,
     "metadata": {},
     "output_type": "execute_result"
    }
   ],
   "source": [
    "play_list_df['Weather'].value_counts()"
   ]
  },
  {
   "cell_type": "markdown",
   "metadata": {
    "papermill": {
     "duration": 0.063372,
     "end_time": "2021-09-20T18:08:55.873599",
     "exception": false,
     "start_time": "2021-09-20T18:08:55.810227",
     "status": "completed"
    },
    "tags": []
   },
   "source": [
    "Generally, we are only concerned about bad weather conditions affecting players such as rain. However, the weather classification appears to be subjective. It may be possible to classify Weather as Hot or Cold based on temperature value but it is not possible to accurately classify if its rainy, cloud etc. given temperature data alone.\n",
    "\n",
    "Best course of action will be to avoid analyzing data based on 'Weather' in the subsequent analysis. As seen above there are clearly some issues with how the temperature data has been classified under weather. It may be possible to classify Weather as Hot or Cold based on temperature value but it is not possible to accurately classify if it's rainy, cloud etc. given this data."
   ]
  },
  {
   "cell_type": "code",
   "execution_count": 33,
   "metadata": {
    "execution": {
     "iopub.execute_input": "2021-09-20T18:08:56.008108Z",
     "iopub.status.busy": "2021-09-20T18:08:56.007395Z",
     "iopub.status.idle": "2021-09-20T18:08:56.009771Z",
     "shell.execute_reply": "2021-09-20T18:08:56.010210Z",
     "shell.execute_reply.started": "2021-09-20T17:47:46.369821Z"
    },
    "papermill": {
     "duration": 0.072352,
     "end_time": "2021-09-20T18:08:56.010374",
     "exception": false,
     "start_time": "2021-09-20T18:08:55.938022",
     "status": "completed"
    },
    "tags": []
   },
   "outputs": [],
   "source": [
    "#Dropping the weather column\n",
    "play_list_df.drop(columns=['Weather'],inplace=True)"
   ]
  },
  {
   "cell_type": "markdown",
   "metadata": {
    "papermill": {
     "duration": 0.06383,
     "end_time": "2021-09-20T18:08:56.138860",
     "exception": false,
     "start_time": "2021-09-20T18:08:56.075030",
     "status": "completed"
    },
    "tags": []
   },
   "source": [
    "#### Temperature"
   ]
  },
  {
   "cell_type": "code",
   "execution_count": 34,
   "metadata": {
    "execution": {
     "iopub.execute_input": "2021-09-20T18:08:56.272150Z",
     "iopub.status.busy": "2021-09-20T18:08:56.271527Z",
     "iopub.status.idle": "2021-09-20T18:08:56.273750Z",
     "shell.execute_reply": "2021-09-20T18:08:56.274212Z",
     "shell.execute_reply.started": "2021-09-20T17:47:50.690332Z"
    },
    "papermill": {
     "duration": 0.072041,
     "end_time": "2021-09-20T18:08:56.274366",
     "exception": false,
     "start_time": "2021-09-20T18:08:56.202325",
     "status": "completed"
    },
    "tags": []
   },
   "outputs": [
    {
     "data": {
      "text/plain": [
       "-32.69736842105263"
      ]
     },
     "execution_count": 34,
     "metadata": {},
     "output_type": "execute_result"
    }
   ],
   "source": [
    "play_list_df['Temperature'].mean()"
   ]
  },
  {
   "cell_type": "code",
   "execution_count": 35,
   "metadata": {
    "_kg_hide-output": true,
    "execution": {
     "iopub.execute_input": "2021-09-20T18:08:56.405765Z",
     "iopub.status.busy": "2021-09-20T18:08:56.405179Z",
     "iopub.status.idle": "2021-09-20T18:08:56.411432Z",
     "shell.execute_reply": "2021-09-20T18:08:56.411991Z",
     "shell.execute_reply.started": "2021-09-20T17:47:52.055898Z"
    },
    "papermill": {
     "duration": 0.073449,
     "end_time": "2021-09-20T18:08:56.412186",
     "exception": false,
     "start_time": "2021-09-20T18:08:56.338737",
     "status": "completed"
    },
    "scrolled": true,
    "tags": []
   },
   "outputs": [
    {
     "data": {
      "text/plain": [
       "190084   -999\n",
       "171123   -999\n",
       "264404   -999\n",
       "162455   -999\n",
       "238810   -999\n",
       "         ... \n",
       "167125     89\n",
       "102209     89\n",
       "165185     89\n",
       "251397     89\n",
       "7261       89\n",
       "Name: Temperature, Length: 76, dtype: int64"
      ]
     },
     "execution_count": 35,
     "metadata": {},
     "output_type": "execute_result"
    }
   ],
   "source": [
    "play_list_df['Temperature'].sort_values()"
   ]
  },
  {
   "cell_type": "markdown",
   "metadata": {
    "papermill": {
     "duration": 0.064878,
     "end_time": "2021-09-20T18:08:56.541421",
     "exception": false,
     "start_time": "2021-09-20T18:08:56.476543",
     "status": "completed"
    },
    "tags": []
   },
   "source": [
    "The temperature values of -999 are clearly wrong. As we see there are some erroneous values so we will replace them with the average of the remaining values. "
   ]
  },
  {
   "cell_type": "code",
   "execution_count": 36,
   "metadata": {
    "execution": {
     "iopub.execute_input": "2021-09-20T18:08:56.677905Z",
     "iopub.status.busy": "2021-09-20T18:08:56.677242Z",
     "iopub.status.idle": "2021-09-20T18:08:56.678834Z",
     "shell.execute_reply": "2021-09-20T18:08:56.679261Z",
     "shell.execute_reply.started": "2021-09-20T17:48:04.616242Z"
    },
    "papermill": {
     "duration": 0.073497,
     "end_time": "2021-09-20T18:08:56.679417",
     "exception": false,
     "start_time": "2021-09-20T18:08:56.605920",
     "status": "completed"
    },
    "tags": []
   },
   "outputs": [],
   "source": [
    "temp_df = play_list_df['Temperature']\n",
    "temp_df = temp_df.to_frame()\n",
    "temp_df.drop(temp_df[temp_df['Temperature']==-999].index, inplace=True)\n",
    "avg_temp = round(temp_df['Temperature'].mean())"
   ]
  },
  {
   "cell_type": "code",
   "execution_count": 37,
   "metadata": {
    "execution": {
     "iopub.execute_input": "2021-09-20T18:08:56.813631Z",
     "iopub.status.busy": "2021-09-20T18:08:56.812938Z",
     "iopub.status.idle": "2021-09-20T18:08:56.816139Z",
     "shell.execute_reply": "2021-09-20T18:08:56.815572Z",
     "shell.execute_reply.started": "2021-09-20T17:48:05.110906Z"
    },
    "papermill": {
     "duration": 0.071975,
     "end_time": "2021-09-20T18:08:56.816267",
     "exception": false,
     "start_time": "2021-09-20T18:08:56.744292",
     "status": "completed"
    },
    "tags": []
   },
   "outputs": [],
   "source": [
    "play_list_df['Temperature'].replace(-999,avg_temp ,inplace=True)"
   ]
  },
  {
   "cell_type": "code",
   "execution_count": 38,
   "metadata": {
    "execution": {
     "iopub.execute_input": "2021-09-20T18:08:56.953688Z",
     "iopub.status.busy": "2021-09-20T18:08:56.953086Z",
     "iopub.status.idle": "2021-09-20T18:08:56.955343Z",
     "shell.execute_reply": "2021-09-20T18:08:56.955789Z",
     "shell.execute_reply.started": "2021-09-20T17:48:06.414063Z"
    },
    "papermill": {
     "duration": 0.073607,
     "end_time": "2021-09-20T18:08:56.955944",
     "exception": false,
     "start_time": "2021-09-20T18:08:56.882337",
     "status": "completed"
    },
    "tags": []
   },
   "outputs": [
    {
     "data": {
      "text/plain": [
       "65.30263157894737"
      ]
     },
     "execution_count": 38,
     "metadata": {},
     "output_type": "execute_result"
    }
   ],
   "source": [
    "play_list_df['Temperature'].mean()"
   ]
  },
  {
   "cell_type": "markdown",
   "metadata": {
    "papermill": {
     "duration": 0.066834,
     "end_time": "2021-09-20T18:08:57.087431",
     "exception": false,
     "start_time": "2021-09-20T18:08:57.020597",
     "status": "completed"
    },
    "tags": []
   },
   "source": [
    "# Exploratory Data Analysis (EDA)\n",
    "\n",
    "In this stage, we will examine the data to identify any patterns, trends and relationships between the variables. It will help us analyze the data and extract insights that can be used to make decisions.\n",
    "\n",
    "Data Visualization will give us a clear idea of what the data means by giving it visual context."
   ]
  },
  {
   "cell_type": "markdown",
   "metadata": {
    "papermill": {
     "duration": 0.064024,
     "end_time": "2021-09-20T18:08:57.216080",
     "exception": false,
     "start_time": "2021-09-20T18:08:57.152056",
     "status": "completed"
    },
    "tags": []
   },
   "source": [
    "## Injury Records"
   ]
  },
  {
   "cell_type": "markdown",
   "metadata": {
    "papermill": {
     "duration": 0.064953,
     "end_time": "2021-09-20T18:08:57.345440",
     "exception": false,
     "start_time": "2021-09-20T18:08:57.280487",
     "status": "completed"
    },
    "tags": []
   },
   "source": [
    "### Surface"
   ]
  },
  {
   "cell_type": "code",
   "execution_count": 39,
   "metadata": {
    "execution": {
     "iopub.execute_input": "2021-09-20T18:08:57.479995Z",
     "iopub.status.busy": "2021-09-20T18:08:57.479309Z",
     "iopub.status.idle": "2021-09-20T18:08:57.662310Z",
     "shell.execute_reply": "2021-09-20T18:08:57.662854Z",
     "shell.execute_reply.started": "2021-09-20T17:48:09.720004Z"
    },
    "papermill": {
     "duration": 0.252612,
     "end_time": "2021-09-20T18:08:57.663022",
     "exception": false,
     "start_time": "2021-09-20T18:08:57.410410",
     "status": "completed"
    },
    "tags": []
   },
   "outputs": [
    {
     "data": {
      "text/plain": [
       "Text(0.5, 1.0, 'Number of Injury Occurances by Surface')"
      ]
     },
     "execution_count": 39,
     "metadata": {},
     "output_type": "execute_result"
    },
    {
     "data": {
      "image/png": "[encoded data removed]",
      "text/plain": [
       "<Figure size 432x288 with 1 Axes>"
      ]
     },
     "metadata": {
      "needs_background": "light"
     },
     "output_type": "display_data"
    }
   ],
   "source": [
    "surface_count = injury_df['Surface']\n",
    "sns.countplot(x=surface_count,palette='viridis')\n",
    "plt.title(\"Number of Injury Occurances by Surface\", fontsize=15)"
   ]
  },
  {
   "cell_type": "code",
   "execution_count": 40,
   "metadata": {
    "execution": {
     "iopub.execute_input": "2021-09-20T18:08:57.801337Z",
     "iopub.status.busy": "2021-09-20T18:08:57.800449Z",
     "iopub.status.idle": "2021-09-20T18:08:57.807431Z",
     "shell.execute_reply": "2021-09-20T18:08:57.807977Z",
     "shell.execute_reply.started": "2021-09-20T17:48:10.588366Z"
    },
    "papermill": {
     "duration": 0.079327,
     "end_time": "2021-09-20T18:08:57.808135",
     "exception": false,
     "start_time": "2021-09-20T18:08:57.728808",
     "status": "completed"
    },
    "tags": []
   },
   "outputs": [
    {
     "data": {
      "text/plain": [
       "13.89"
      ]
     },
     "execution_count": 40,
     "metadata": {},
     "output_type": "execute_result"
    }
   ],
   "source": [
    "synthetic = injury_df['Surface'].value_counts()[0]\n",
    "natural = injury_df['Surface'].value_counts()[1]\n",
    "\n",
    "round(((synthetic-natural)/natural)*100,2)"
   ]
  },
  {
   "cell_type": "markdown",
   "metadata": {
    "papermill": {
     "duration": 0.066292,
     "end_time": "2021-09-20T18:08:57.940182",
     "exception": false,
     "start_time": "2021-09-20T18:08:57.873890",
     "status": "completed"
    },
    "tags": []
   },
   "source": [
    "Synthetic surfaces result in <b>13.89%</b> more injuries than Natural surfaces. "
   ]
  },
  {
   "cell_type": "markdown",
   "metadata": {
    "papermill": {
     "duration": 0.065851,
     "end_time": "2021-09-20T18:08:58.071705",
     "exception": false,
     "start_time": "2021-09-20T18:08:58.005854",
     "status": "completed"
    },
    "tags": []
   },
   "source": [
    "### Body Part Injured"
   ]
  },
  {
   "cell_type": "code",
   "execution_count": 41,
   "metadata": {
    "execution": {
     "iopub.execute_input": "2021-09-20T18:08:58.206981Z",
     "iopub.status.busy": "2021-09-20T18:08:58.206052Z",
     "iopub.status.idle": "2021-09-20T18:08:58.341108Z",
     "shell.execute_reply": "2021-09-20T18:08:58.341593Z",
     "shell.execute_reply.started": "2021-09-20T17:48:13.891371Z"
    },
    "papermill": {
     "duration": 0.204688,
     "end_time": "2021-09-20T18:08:58.341761",
     "exception": false,
     "start_time": "2021-09-20T18:08:58.137073",
     "status": "completed"
    },
    "scrolled": true,
    "tags": []
   },
   "outputs": [
    {
     "data": {
      "text/plain": [
       "Text(0.5, 1.0, 'Number of Injury Occurances by Body Part')"
      ]
     },
     "execution_count": 41,
     "metadata": {},
     "output_type": "execute_result"
    },
    {
     "data": {
      "image/png": "[encoded data removed]",
      "text/plain": [
       "<Figure size 432x288 with 1 Axes>"
      ]
     },
     "metadata": {
      "needs_background": "light"
     },
     "output_type": "display_data"
    }
   ],
   "source": [
    "bodypart_count = injury_df['BodyPart']\n",
    "sns.countplot(x=bodypart_count,palette='viridis')\n",
    "plt.title(\"Number of Injury Occurances by Body Part\", fontsize=15)"
   ]
  },
  {
   "cell_type": "markdown",
   "metadata": {
    "papermill": {
     "duration": 0.065734,
     "end_time": "2021-09-20T18:08:58.473920",
     "exception": false,
     "start_time": "2021-09-20T18:08:58.408186",
     "status": "completed"
    },
    "tags": []
   },
   "source": [
    "<b>Knee</b> and <b>Ankle</b> injuries have the highest occurrances."
   ]
  },
  {
   "cell_type": "markdown",
   "metadata": {
    "papermill": {
     "duration": 0.066715,
     "end_time": "2021-09-20T18:08:58.608350",
     "exception": false,
     "start_time": "2021-09-20T18:08:58.541635",
     "status": "completed"
    },
    "tags": []
   },
   "source": [
    "### Days Missed Due to Injury"
   ]
  },
  {
   "cell_type": "markdown",
   "metadata": {
    "papermill": {
     "duration": 0.066952,
     "end_time": "2021-09-20T18:08:58.741798",
     "exception": false,
     "start_time": "2021-09-20T18:08:58.674846",
     "status": "completed"
    },
    "tags": []
   },
   "source": [
    "A typical NFL season is 18-weeks or 126 days. Each team plays 17 games with one week off. Therefore, A player would play in one game a week. The number of days missed can be considered the duration of the injury as it affects the players ability to participate in games during the season.\n",
    "\n",
    "- Injuries lasting 1 days or more can be considered <i>short duration</i>, as the player would miss 1 game or approx. 6% of the season the worst case. \n",
    "- Injuries lasting 7 days or more can be considered <i>medium duration</i>, as the player would miss 4 games or approx. 24% of the season in the worst case. \n",
    "- Injuries lasting 28 days or more can be considered <i>long duration</i>, as the player would miss 6 games or approx. 35% of the season in the worst case. \n",
    "- Injuries lasting 42 days or more can be considered <i>indefinite duration</i>, as the number of games the player would miss would depend on the nature of the injury and whether it would be safe for them to immediately go back to the field. It is entirely possible that the player may have to sit out the rest of the season so injuries in this category are of the greatest concern to players."
   ]
  },
  {
   "cell_type": "code",
   "execution_count": 42,
   "metadata": {
    "execution": {
     "iopub.execute_input": "2021-09-20T18:08:58.913314Z",
     "iopub.status.busy": "2021-09-20T18:08:58.912701Z",
     "iopub.status.idle": "2021-09-20T18:08:59.071738Z",
     "shell.execute_reply": "2021-09-20T18:08:59.070788Z",
     "shell.execute_reply.started": "2021-09-20T17:48:17.226255Z"
    },
    "papermill": {
     "duration": 0.242173,
     "end_time": "2021-09-20T18:08:59.071903",
     "exception": false,
     "start_time": "2021-09-20T18:08:58.829730",
     "status": "completed"
    },
    "scrolled": true,
    "tags": []
   },
   "outputs": [
    {
     "data": {
      "text/plain": [
       "Text(0.5, 1.0, 'Number of Days Missed Due to Injury')"
      ]
     },
     "execution_count": 42,
     "metadata": {},
     "output_type": "execute_result"
    },
    {
     "data": {
      "image/png": "[encoded data removed]",
      "text/plain": [
       "<Figure size 576x288 with 1 Axes>"
      ]
     },
     "metadata": {
      "needs_background": "light"
     },
     "output_type": "display_data"
    }
   ],
   "source": [
    "fig_dims = (8, 4)\n",
    "fig, ax = plt.subplots(figsize=fig_dims)\n",
    "\n",
    "#Counting Number of Days missed due to injury\n",
    "day_1 = injury_df['DM_M1'].value_counts()[1]\n",
    "days_7 = injury_df['DM_M7'].value_counts()[1]\n",
    "days_28 = injury_df['DM_M28'].value_counts()[1]\n",
    "days_42 = injury_df['DM_M42'].value_counts()[1]\n",
    "\n",
    "#Creating a list with the values\n",
    "days_missed = [day_1,days_7,days_28,days_42]\n",
    "days_missed_label = ['1 Day or More','7 Days or More','28 Days or More','42 Days or More']\n",
    "\n",
    "plt.bar(days_missed_label,days_missed)\n",
    "plt.title(\"Number of Days Missed Due to Injury\", fontsize=20)"
   ]
  },
  {
   "cell_type": "markdown",
   "metadata": {
    "papermill": {
     "duration": 0.067338,
     "end_time": "2021-09-20T18:08:59.207206",
     "exception": false,
     "start_time": "2021-09-20T18:08:59.139868",
     "status": "completed"
    },
    "tags": []
   },
   "source": [
    "The majority of injuries result in players missing either <b>1 or more days or 7 days or more.</b> "
   ]
  },
  {
   "cell_type": "markdown",
   "metadata": {
    "papermill": {
     "duration": 0.06745,
     "end_time": "2021-09-20T18:08:59.342434",
     "exception": false,
     "start_time": "2021-09-20T18:08:59.274984",
     "status": "completed"
    },
    "tags": []
   },
   "source": [
    "#### Days Missed Due to Injury vs Surface"
   ]
  },
  {
   "cell_type": "code",
   "execution_count": 43,
   "metadata": {
    "execution": {
     "iopub.execute_input": "2021-09-20T18:08:59.504409Z",
     "iopub.status.busy": "2021-09-20T18:08:59.499598Z",
     "iopub.status.idle": "2021-09-20T18:08:59.508350Z",
     "shell.execute_reply": "2021-09-20T18:08:59.507926Z",
     "shell.execute_reply.started": "2021-09-20T17:48:20.259955Z"
    },
    "papermill": {
     "duration": 0.097374,
     "end_time": "2021-09-20T18:08:59.508484",
     "exception": false,
     "start_time": "2021-09-20T18:08:59.411110",
     "status": "completed"
    },
    "scrolled": true,
    "tags": []
   },
   "outputs": [
    {
     "data": {
      "text/html": [
       "<div>\n",
       "<style scoped>\n",
       "    .dataframe tbody tr th:only-of-type {\n",
       "        vertical-align: middle;\n",
       "    }\n",
       "\n",
       "    .dataframe tbody tr th {\n",
       "        vertical-align: top;\n",
       "    }\n",
       "\n",
       "    .dataframe thead th {\n",
       "        text-align: right;\n",
       "    }\n",
       "</style>\n",
       "<table border=\"1\" class=\"dataframe\">\n",
       "  <thead>\n",
       "    <tr style=\"text-align: right;\">\n",
       "      <th></th>\n",
       "      <th>day_1</th>\n",
       "      <th>days_7</th>\n",
       "      <th>days_28</th>\n",
       "      <th>days_42</th>\n",
       "    </tr>\n",
       "    <tr>\n",
       "      <th>Surface</th>\n",
       "      <th></th>\n",
       "      <th></th>\n",
       "      <th></th>\n",
       "      <th></th>\n",
       "    </tr>\n",
       "  </thead>\n",
       "  <tbody>\n",
       "    <tr>\n",
       "      <th>Natural</th>\n",
       "      <td>36</td>\n",
       "      <td>27</td>\n",
       "      <td>11</td>\n",
       "      <td>9</td>\n",
       "    </tr>\n",
       "    <tr>\n",
       "      <th>Synthetic</th>\n",
       "      <td>41</td>\n",
       "      <td>33</td>\n",
       "      <td>20</td>\n",
       "      <td>15</td>\n",
       "    </tr>\n",
       "  </tbody>\n",
       "</table>\n",
       "</div>"
      ],
      "text/plain": [
       "           day_1  days_7  days_28  days_42\n",
       "Surface                                   \n",
       "Natural       36      27       11        9\n",
       "Synthetic     41      33       20       15"
      ]
     },
     "execution_count": 43,
     "metadata": {},
     "output_type": "execute_result"
    }
   ],
   "source": [
    "#Grouping by Surface\n",
    "days_missed_surface = injury_df.groupby('Surface').agg(day_1=('DM_M1',np.count_nonzero),days_7=('DM_M7',np.count_nonzero),days_28=('DM_M28',np.count_nonzero),days_42=('DM_M42',np.count_nonzero))\n",
    "days_missed_surface  "
   ]
  },
  {
   "cell_type": "markdown",
   "metadata": {
    "papermill": {
     "duration": 0.069726,
     "end_time": "2021-09-20T18:08:59.647516",
     "exception": false,
     "start_time": "2021-09-20T18:08:59.577790",
     "status": "completed"
    },
    "tags": []
   },
   "source": [
    "The data above has overlap in the values counted as the counts are not mutually exclusive. \n",
    "\n",
    "It would be useful to know what percent of players injured on each surface correspond to each injury duration i.e. the days missed. We can modify the days_missed DataFrame to help us visualize this relationship."
   ]
  },
  {
   "cell_type": "code",
   "execution_count": 44,
   "metadata": {
    "execution": {
     "iopub.execute_input": "2021-09-20T18:08:59.800016Z",
     "iopub.status.busy": "2021-09-20T18:08:59.799333Z",
     "iopub.status.idle": "2021-09-20T18:08:59.801211Z",
     "shell.execute_reply": "2021-09-20T18:08:59.801633Z",
     "shell.execute_reply.started": "2021-09-20T17:48:21.481043Z"
    },
    "papermill": {
     "duration": 0.084503,
     "end_time": "2021-09-20T18:08:59.801815",
     "exception": false,
     "start_time": "2021-09-20T18:08:59.717312",
     "status": "completed"
    },
    "tags": []
   },
   "outputs": [],
   "source": [
    "#Creating new columns with mutually exclusive values\n",
    "days_missed_surface ['day_1_new'] = days_missed_surface ['day_1'] - days_missed_surface ['days_7']\n",
    "days_missed_surface ['days_7_new'] = days_missed_surface ['days_7'] - days_missed_surface ['days_28']\n",
    "days_missed_surface ['days_28_new'] = days_missed_surface ['days_28'] - days_missed_surface ['days_42']\n",
    "days_missed_surface ['days_42_new'] = days_missed_surface ['days_42']\n",
    "\n",
    "#Deleting the original columns\n",
    "days_missed_surface .drop(['day_1','days_7','days_28','days_42'], inplace=True, axis=1)\n",
    "\n",
    "#Renaming new columns\n",
    "days_missed_surface.rename(columns={'day_1_new': '1 Day or More', 'days_7_new': '7 Days or More', 'days_28_new': '28 Days or More', 'days_42_new': '42 Days or More'}, inplace=True)"
   ]
  },
  {
   "cell_type": "code",
   "execution_count": 45,
   "metadata": {
    "execution": {
     "iopub.execute_input": "2021-09-20T18:08:59.949023Z",
     "iopub.status.busy": "2021-09-20T18:08:59.948375Z",
     "iopub.status.idle": "2021-09-20T18:09:00.183206Z",
     "shell.execute_reply": "2021-09-20T18:09:00.182599Z",
     "shell.execute_reply.started": "2021-09-20T17:48:22.430674Z"
    },
    "papermill": {
     "duration": 0.311541,
     "end_time": "2021-09-20T18:09:00.183352",
     "exception": false,
     "start_time": "2021-09-20T18:08:59.871811",
     "status": "completed"
    },
    "tags": []
   },
   "outputs": [
    {
     "data": {
      "text/plain": [
       "Text(0.5, 1.0, 'Days Missed Due to Injury vs Surface')"
      ]
     },
     "execution_count": 45,
     "metadata": {},
     "output_type": "execute_result"
    },
    {
     "data": {
      "image/png": "[encoded data removed]",
      "text/plain": [
       "<Figure size 720x360 with 2 Axes>"
      ]
     },
     "metadata": {},
     "output_type": "display_data"
    }
   ],
   "source": [
    "#Plotting the pie chart for each row\n",
    "days_missed_surface.T.plot.pie(subplots=True, figsize=(10, 5), autopct=\"%.1f\", wedgeprops={'linewidth': 3.0, 'edgecolor': 'white'}, labels=None,legend=False)\n",
    "plt.legend(labels=days_missed_surface.columns, bbox_to_anchor=(1.05,0.5), loc=\"center right\", fontsize=10,bbox_transform=plt.gcf().transFigure)\n",
    "\n",
    "#days_missed.T allows us to transpose the DataFrame and plot each row as a pie chart\n",
    "# autopct=\"%.1f\" shows the percentage to 1 decimal place \n",
    "#wedgeprops={'linewidth': 3.0, 'edgecolor': 'white'} creates a space between pie segments\n",
    "#bbox_to_anchor allows us to manually place the legend\n",
    "#bbox_transform=plt.gcf().transFigure ensures that the legend does not overlap with the pie charts\n",
    "\n",
    "plt.title(\"Days Missed Due to Injury vs Surface\", fontsize=20)"
   ]
  },
  {
   "cell_type": "markdown",
   "metadata": {
    "papermill": {
     "duration": 0.070613,
     "end_time": "2021-09-20T18:09:00.325437",
     "exception": false,
     "start_time": "2021-09-20T18:09:00.254824",
     "status": "completed"
    },
    "tags": []
   },
   "source": [
    "Based on this visualization we can say that,\n",
    "- Players have a relatively higher likelihood of suffering short and medium duration injuries on Natural surfaces.\n",
    "- Players have a relatively higher likelihood of suffering long and indefinite duration injuries on Synthetic surfaces. \n",
    "\n",
    "Overall, injuries on synthetic surfaces result in players missing more days than those on natural surfaces. \n",
    "\n",
    "## Play List"
   ]
  },
  {
   "cell_type": "markdown",
   "metadata": {
    "papermill": {
     "duration": 0.071133,
     "end_time": "2021-09-20T18:09:00.468173",
     "exception": false,
     "start_time": "2021-09-20T18:09:00.397040",
     "status": "completed"
    },
    "tags": []
   },
   "source": [
    "### Roster Position"
   ]
  },
  {
   "cell_type": "code",
   "execution_count": 46,
   "metadata": {
    "execution": {
     "iopub.execute_input": "2021-09-20T18:09:00.734445Z",
     "iopub.status.busy": "2021-09-20T18:09:00.726782Z",
     "iopub.status.idle": "2021-09-20T18:09:00.933011Z",
     "shell.execute_reply": "2021-09-20T18:09:00.932284Z",
     "shell.execute_reply.started": "2021-09-20T17:48:26.149019Z"
    },
    "papermill": {
     "duration": 0.392293,
     "end_time": "2021-09-20T18:09:00.933161",
     "exception": false,
     "start_time": "2021-09-20T18:09:00.540868",
     "status": "completed"
    },
    "tags": []
   },
   "outputs": [
    {
     "data": {
      "text/plain": [
       "Text(0.5, 1.0, 'Number of Injury Occurances by Roster Postion')"
      ]
     },
     "execution_count": 46,
     "metadata": {},
     "output_type": "execute_result"
    },
    {
     "data": {
      "image/png": "[encoded data removed]",
      "text/plain": [
       "<Figure size 1008x360 with 1 Axes>"
      ]
     },
     "metadata": {
      "needs_background": "light"
     },
     "output_type": "display_data"
    }
   ],
   "source": [
    "fig_dims = (14, 5)\n",
    "fig, ax = plt.subplots(figsize=fig_dims)\n",
    "\n",
    "roster_position_count = play_list_df['RosterPosition']\n",
    "sns.countplot(x=roster_position_count,palette='viridis')\n",
    "plt.title(\"Number of Injury Occurances by Roster Postion\", fontsize=15)"
   ]
  },
  {
   "cell_type": "markdown",
   "metadata": {
    "papermill": {
     "duration": 0.076012,
     "end_time": "2021-09-20T18:09:01.083610",
     "exception": false,
     "start_time": "2021-09-20T18:09:01.007598",
     "status": "completed"
    },
    "tags": []
   },
   "source": [
    "The most injuries are sustained by Players in the <b>Linebacker</b> position followed by those in the <b>Wide Receiver</b> and <b>Safety</b> positions."
   ]
  },
  {
   "cell_type": "markdown",
   "metadata": {
    "papermill": {
     "duration": 0.07238,
     "end_time": "2021-09-20T18:09:01.230021",
     "exception": false,
     "start_time": "2021-09-20T18:09:01.157641",
     "status": "completed"
    },
    "tags": []
   },
   "source": [
    "### Stadium Type"
   ]
  },
  {
   "cell_type": "code",
   "execution_count": 47,
   "metadata": {
    "execution": {
     "iopub.execute_input": "2021-09-20T18:09:01.379408Z",
     "iopub.status.busy": "2021-09-20T18:09:01.378719Z",
     "iopub.status.idle": "2021-09-20T18:09:01.521141Z",
     "shell.execute_reply": "2021-09-20T18:09:01.521729Z",
     "shell.execute_reply.started": "2021-09-20T17:48:28.292853Z"
    },
    "papermill": {
     "duration": 0.2188,
     "end_time": "2021-09-20T18:09:01.521896",
     "exception": false,
     "start_time": "2021-09-20T18:09:01.303096",
     "status": "completed"
    },
    "tags": []
   },
   "outputs": [
    {
     "data": {
      "text/plain": [
       "Text(0.5, 1.0, 'Number of Injury Occurances by Stadium Type')"
      ]
     },
     "execution_count": 47,
     "metadata": {},
     "output_type": "execute_result"
    },
    {
     "data": {
      "image/png": "[encoded data removed]",
      "text/plain": [
       "<Figure size 576x288 with 1 Axes>"
      ]
     },
     "metadata": {
      "needs_background": "light"
     },
     "output_type": "display_data"
    }
   ],
   "source": [
    "fig_dims = (8, 4)\n",
    "fig, ax = plt.subplots(figsize=fig_dims)\n",
    "\n",
    "stadium_type_count = play_list_df['StadiumType']\n",
    "sns.countplot(x=stadium_type_count,palette='viridis')\n",
    "plt.title(\"Number of Injury Occurances by Stadium Type\", fontsize=15)"
   ]
  },
  {
   "cell_type": "markdown",
   "metadata": {
    "papermill": {
     "duration": 0.073628,
     "end_time": "2021-09-20T18:09:01.670468",
     "exception": false,
     "start_time": "2021-09-20T18:09:01.596840",
     "status": "completed"
    },
    "tags": []
   },
   "source": [
    "The most injuries occur in <b>Outdoor</b> Stadiums, which makes sense as these stadiums have the most exposure to potentially hazardous weather conditions.\n",
    "\n",
    "### Temperature"
   ]
  },
  {
   "cell_type": "code",
   "execution_count": 48,
   "metadata": {
    "execution": {
     "iopub.execute_input": "2021-09-20T18:09:01.857716Z",
     "iopub.status.busy": "2021-09-20T18:09:01.856717Z",
     "iopub.status.idle": "2021-09-20T18:09:02.122622Z",
     "shell.execute_reply": "2021-09-20T18:09:02.122060Z",
     "shell.execute_reply.started": "2021-09-20T17:48:28.914972Z"
    },
    "papermill": {
     "duration": 0.378704,
     "end_time": "2021-09-20T18:09:02.122860",
     "exception": false,
     "start_time": "2021-09-20T18:09:01.744156",
     "status": "completed"
    },
    "tags": []
   },
   "outputs": [
    {
     "data": {
      "text/plain": [
       "Text(0.5, 1.0, 'Number of Injury Occurances by Temperature')"
      ]
     },
     "execution_count": 48,
     "metadata": {},
     "output_type": "execute_result"
    },
    {
     "data": {
      "image/png": "[encoded data removed]",
      "text/plain": [
       "<Figure size 576x288 with 1 Axes>"
      ]
     },
     "metadata": {
      "needs_background": "light"
     },
     "output_type": "display_data"
    }
   ],
   "source": [
    "fig_dims = (8, 4)\n",
    "fig, ax = plt.subplots(figsize=fig_dims)\n",
    "\n",
    "temp = play_list_df['Temperature']\n",
    "sns.histplot(x=temp,binwidth=1)\n",
    "plt.title(\"Number of Injury Occurances by Temperature\", fontsize=15)"
   ]
  },
  {
   "cell_type": "markdown",
   "metadata": {
    "papermill": {
     "duration": 0.072174,
     "end_time": "2021-09-20T18:09:02.268281",
     "exception": false,
     "start_time": "2021-09-20T18:09:02.196107",
     "status": "completed"
    },
    "tags": []
   },
   "source": [
    "The greatest number of injuries take place in games with weather of <b>67-68 degrees</b> followed by <b>88-89 degrees.</b>\n",
    "\n",
    "### Position"
   ]
  },
  {
   "cell_type": "code",
   "execution_count": 49,
   "metadata": {
    "execution": {
     "iopub.execute_input": "2021-09-20T18:09:02.418804Z",
     "iopub.status.busy": "2021-09-20T18:09:02.418101Z",
     "iopub.status.idle": "2021-09-20T18:09:02.659144Z",
     "shell.execute_reply": "2021-09-20T18:09:02.659599Z",
     "shell.execute_reply.started": "2021-09-20T17:48:29.582249Z"
    },
    "papermill": {
     "duration": 0.317877,
     "end_time": "2021-09-20T18:09:02.659786",
     "exception": false,
     "start_time": "2021-09-20T18:09:02.341909",
     "status": "completed"
    },
    "tags": []
   },
   "outputs": [
    {
     "data": {
      "text/plain": [
       "Text(0.5, 1.0, 'Number of Injury Occurances by Postion')"
      ]
     },
     "execution_count": 49,
     "metadata": {},
     "output_type": "execute_result"
    },
    {
     "data": {
      "image/png": "[encoded data removed]",
      "text/plain": [
       "<Figure size 1008x360 with 1 Axes>"
      ]
     },
     "metadata": {
      "needs_background": "light"
     },
     "output_type": "display_data"
    }
   ],
   "source": [
    "fig_dims = (14, 5)\n",
    "fig, ax = plt.subplots(figsize=fig_dims)\n",
    "\n",
    "position_count = play_list_df['Position']\n",
    "sns.countplot(x=position_count,palette='viridis')\n",
    "plt.title(\"Number of Injury Occurances by Postion\", fontsize=15)"
   ]
  },
  {
   "cell_type": "markdown",
   "metadata": {
    "papermill": {
     "duration": 0.073538,
     "end_time": "2021-09-20T18:09:02.806910",
     "exception": false,
     "start_time": "2021-09-20T18:09:02.733372",
     "status": "completed"
    },
    "tags": []
   },
   "source": [
    "The most injuries are sustained by players in the <b>Wide Receiver (WR)</b> position during a play followed by those in the <b>Outside Linebacker (OLB)</b> position.\n",
    "\n",
    "### Position Group"
   ]
  },
  {
   "cell_type": "code",
   "execution_count": 50,
   "metadata": {
    "execution": {
     "iopub.execute_input": "2021-09-20T18:09:02.978610Z",
     "iopub.status.busy": "2021-09-20T18:09:02.974386Z",
     "iopub.status.idle": "2021-09-20T18:09:03.144169Z",
     "shell.execute_reply": "2021-09-20T18:09:03.144595Z",
     "shell.execute_reply.started": "2021-09-20T17:48:30.300108Z"
    },
    "papermill": {
     "duration": 0.264761,
     "end_time": "2021-09-20T18:09:03.144766",
     "exception": false,
     "start_time": "2021-09-20T18:09:02.880005",
     "status": "completed"
    },
    "tags": []
   },
   "outputs": [
    {
     "data": {
      "text/plain": [
       "Text(0.5, 1.0, 'Number of Injury Occurances by Postion Group')"
      ]
     },
     "execution_count": 50,
     "metadata": {},
     "output_type": "execute_result"
    },
    {
     "data": {
      "image/png": "[encoded data removed]",
      "text/plain": [
       "<Figure size 1008x360 with 1 Axes>"
      ]
     },
     "metadata": {
      "needs_background": "light"
     },
     "output_type": "display_data"
    }
   ],
   "source": [
    "fig_dims = (14, 5)\n",
    "fig, ax = plt.subplots(figsize=fig_dims)\n",
    "\n",
    "position_group_count = play_list_df['PositionGroup']\n",
    "sns.countplot(x=position_group_count,palette='viridis')\n",
    "plt.title(\"Number of Injury Occurances by Postion Group\", fontsize=15)"
   ]
  },
  {
   "cell_type": "markdown",
   "metadata": {
    "papermill": {
     "duration": 0.073764,
     "end_time": "2021-09-20T18:09:03.292333",
     "exception": false,
     "start_time": "2021-09-20T18:09:03.218569",
     "status": "completed"
    },
    "tags": []
   },
   "source": [
    "The most injuries are sustained by players in the <b> Linebacker (LB)</b> position group during a play followed by those in the <b>Wide Receiver (WR) and Defensive Back (DB)</b> position group.\n",
    "\n",
    "### Field Type/Surface"
   ]
  },
  {
   "cell_type": "code",
   "execution_count": 51,
   "metadata": {
    "execution": {
     "iopub.execute_input": "2021-09-20T18:09:03.443587Z",
     "iopub.status.busy": "2021-09-20T18:09:03.442689Z",
     "iopub.status.idle": "2021-09-20T18:09:03.579753Z",
     "shell.execute_reply": "2021-09-20T18:09:03.580248Z",
     "shell.execute_reply.started": "2021-09-20T17:48:30.996811Z"
    },
    "papermill": {
     "duration": 0.214554,
     "end_time": "2021-09-20T18:09:03.580407",
     "exception": false,
     "start_time": "2021-09-20T18:09:03.365853",
     "status": "completed"
    },
    "tags": []
   },
   "outputs": [
    {
     "data": {
      "text/plain": [
       "Text(0.5, 1.0, 'Number of Injury Occurances by Field Type')"
      ]
     },
     "execution_count": 51,
     "metadata": {},
     "output_type": "execute_result"
    },
    {
     "data": {
      "image/png": "[encoded data removed]",
      "text/plain": [
       "<Figure size 576x288 with 1 Axes>"
      ]
     },
     "metadata": {
      "needs_background": "light"
     },
     "output_type": "display_data"
    }
   ],
   "source": [
    "fig_dims = (8, 4)\n",
    "fig, ax = plt.subplots(figsize=fig_dims)\n",
    "\n",
    "field_type_count = play_list_df['FieldType']\n",
    "sns.countplot(x=field_type_count,palette='viridis')\n",
    "plt.title(\"Number of Injury Occurances by Field Type\", fontsize=15)"
   ]
  },
  {
   "cell_type": "markdown",
   "metadata": {
    "papermill": {
     "duration": 0.074442,
     "end_time": "2021-09-20T18:09:03.730196",
     "exception": false,
     "start_time": "2021-09-20T18:09:03.655754",
     "status": "completed"
    },
    "tags": []
   },
   "source": [
    "There are more injuries on <b>Synthetic</b> fields.\n",
    "\n",
    "#### Field Type/Surface vs. Roster Position"
   ]
  },
  {
   "cell_type": "code",
   "execution_count": 52,
   "metadata": {
    "execution": {
     "iopub.execute_input": "2021-09-20T18:09:03.914995Z",
     "iopub.status.busy": "2021-09-20T18:09:03.913973Z",
     "iopub.status.idle": "2021-09-20T18:09:04.134399Z",
     "shell.execute_reply": "2021-09-20T18:09:04.134823Z",
     "shell.execute_reply.started": "2021-09-20T17:48:31.648222Z"
    },
    "papermill": {
     "duration": 0.330256,
     "end_time": "2021-09-20T18:09:04.134990",
     "exception": false,
     "start_time": "2021-09-20T18:09:03.804734",
     "status": "completed"
    },
    "tags": []
   },
   "outputs": [
    {
     "data": {
      "text/plain": [
       "Text(0.5, 1.0, 'Number of Injury Occurances by Roster Postion')"
      ]
     },
     "execution_count": 52,
     "metadata": {},
     "output_type": "execute_result"
    },
    {
     "data": {
      "image/png": "[encoded data removed]",
      "text/plain": [
       "<Figure size 1008x360 with 1 Axes>"
      ]
     },
     "metadata": {
      "needs_background": "light"
     },
     "output_type": "display_data"
    }
   ],
   "source": [
    "fig_dims = (14, 5)\n",
    "fig, ax = plt.subplots(figsize=fig_dims)\n",
    "\n",
    "roster_position_count = play_list_df['RosterPosition']\n",
    "sns.countplot(x=roster_position_count, data=play_list_df,palette='viridis',hue='FieldType')\n",
    "plt.title(\"Number of Injury Occurances by Roster Postion\", fontsize=15)"
   ]
  },
  {
   "cell_type": "markdown",
   "metadata": {
    "papermill": {
     "duration": 0.075614,
     "end_time": "2021-09-20T18:09:04.286753",
     "exception": false,
     "start_time": "2021-09-20T18:09:04.211139",
     "status": "completed"
    },
    "tags": []
   },
   "source": [
    "Natural surfaces result in more injuries for players in the Linebacker, Safety, Defensive Lineman and Offensive Lineman roster positions.\n",
    "\n",
    "Synthetic surfaces in more injuries for players in the Wide Receiver, Cornerback and Running Back roster positions\n",
    "\n",
    "<u>Note:</u> The Roster Position refers to the official position assigned to the player but it may vary in the actual play itself. The Position refers to the player's position during the actual play so this information must be verified with the Position data.\n",
    "\n",
    "#### Field Type/Surface vs. Position"
   ]
  },
  {
   "cell_type": "code",
   "execution_count": 53,
   "metadata": {
    "execution": {
     "iopub.execute_input": "2021-09-20T18:09:04.443814Z",
     "iopub.status.busy": "2021-09-20T18:09:04.441146Z",
     "iopub.status.idle": "2021-09-20T18:09:04.766115Z",
     "shell.execute_reply": "2021-09-20T18:09:04.765626Z",
     "shell.execute_reply.started": "2021-09-20T17:48:32.292612Z"
    },
    "papermill": {
     "duration": 0.403511,
     "end_time": "2021-09-20T18:09:04.766242",
     "exception": false,
     "start_time": "2021-09-20T18:09:04.362731",
     "status": "completed"
    },
    "tags": []
   },
   "outputs": [
    {
     "data": {
      "text/plain": [
       "Text(0.5, 1.0, 'Number of Injury Occurances by Postion')"
      ]
     },
     "execution_count": 53,
     "metadata": {},
     "output_type": "execute_result"
    },
    {
     "data": {
      "image/png": "[encoded data removed]",
      "text/plain": [
       "<Figure size 1008x360 with 1 Axes>"
      ]
     },
     "metadata": {
      "needs_background": "light"
     },
     "output_type": "display_data"
    }
   ],
   "source": [
    "fig_dims = (14, 5)\n",
    "fig, ax = plt.subplots(figsize=fig_dims)\n",
    "\n",
    "position_count = play_list_df['Position']\n",
    "sns.countplot(x=position_count,data=play_list_df,palette='viridis',hue='FieldType')\n",
    "plt.title(\"Number of Injury Occurances by Postion\", fontsize=15)"
   ]
  },
  {
   "cell_type": "markdown",
   "metadata": {
    "papermill": {
     "duration": 0.077205,
     "end_time": "2021-09-20T18:09:04.922456",
     "exception": false,
     "start_time": "2021-09-20T18:09:04.845251",
     "status": "completed"
    },
    "tags": []
   },
   "source": [
    "Players in the Wide Receivers (WR) position, who sustain the most injuries during a play, sustain <b>more injuries on Synthetic surfaces than Natural ones.</b>\n",
    "- Players in 7 out of 15 positions sustain more injuries on Synthetic Surfaces.\n",
    "- Players in 5 out of 15 positions sustain more injuries on Natural Surfaces.\n",
    "- Players in 3 out of 15 positions sustain about the same injuries on both surfaces.\n",
    "\n",
    "#### Field Type/Surface vs. Position Group"
   ]
  },
  {
   "cell_type": "code",
   "execution_count": 54,
   "metadata": {
    "execution": {
     "iopub.execute_input": "2021-09-20T18:09:05.100720Z",
     "iopub.status.busy": "2021-09-20T18:09:05.098131Z",
     "iopub.status.idle": "2021-09-20T18:09:05.309851Z",
     "shell.execute_reply": "2021-09-20T18:09:05.310291Z",
     "shell.execute_reply.started": "2021-09-20T17:48:33.592394Z"
    },
    "papermill": {
     "duration": 0.309368,
     "end_time": "2021-09-20T18:09:05.310450",
     "exception": false,
     "start_time": "2021-09-20T18:09:05.001082",
     "status": "completed"
    },
    "tags": []
   },
   "outputs": [
    {
     "data": {
      "text/plain": [
       "Text(0.5, 1.0, 'Number of Injury Occurances by Postion Group')"
      ]
     },
     "execution_count": 54,
     "metadata": {},
     "output_type": "execute_result"
    },
    {
     "data": {
      "image/png": "[encoded data removed]",
      "text/plain": [
       "<Figure size 1008x360 with 1 Axes>"
      ]
     },
     "metadata": {
      "needs_background": "light"
     },
     "output_type": "display_data"
    }
   ],
   "source": [
    "fig_dims = (14, 5)\n",
    "fig, ax = plt.subplots(figsize=fig_dims)\n",
    "\n",
    "position_group_count = play_list_df['PositionGroup']\n",
    "sns.countplot(x=position_group_count, data=play_list_df,palette='viridis',hue='FieldType')\n",
    "plt.title(\"Number of Injury Occurances by Postion Group\", fontsize=15)"
   ]
  },
  {
   "cell_type": "markdown",
   "metadata": {
    "papermill": {
     "duration": 0.077827,
     "end_time": "2021-09-20T18:09:05.466764",
     "exception": false,
     "start_time": "2021-09-20T18:09:05.388937",
     "status": "completed"
    },
    "tags": []
   },
   "source": [
    "Players in the Linebacker (LB) position group, who sustain the most injuries during a play, sustain <b>more injuries on Natural surfaces than Synthetic ones.</b>\n",
    "- Players in 3 out of 7 position groups sustain more injuries on Synthetic Surfaces.\n",
    "- Players in 3 out of 7 position groups sustain more injuries on Natural Surfaces.\n",
    "- Players in 1 out of 7 position groups sustain about the same injuries on both surfaces.\n",
    "\n",
    "#### Field Type/Surface vs. Stadium Type"
   ]
  },
  {
   "cell_type": "code",
   "execution_count": 55,
   "metadata": {
    "execution": {
     "iopub.execute_input": "2021-09-20T18:09:05.644124Z",
     "iopub.status.busy": "2021-09-20T18:09:05.643149Z",
     "iopub.status.idle": "2021-09-20T18:09:05.816047Z",
     "shell.execute_reply": "2021-09-20T18:09:05.816471Z",
     "shell.execute_reply.started": "2021-09-20T17:48:35.046962Z"
    },
    "papermill": {
     "duration": 0.271749,
     "end_time": "2021-09-20T18:09:05.816654",
     "exception": false,
     "start_time": "2021-09-20T18:09:05.544905",
     "status": "completed"
    },
    "scrolled": true,
    "tags": []
   },
   "outputs": [
    {
     "data": {
      "text/plain": [
       "Text(0.5, 1.0, 'Number of Injury Occurances by Stadium Type')"
      ]
     },
     "execution_count": 55,
     "metadata": {},
     "output_type": "execute_result"
    },
    {
     "data": {
      "image/png": "[encoded data removed]",
      "text/plain": [
       "<Figure size 576x288 with 1 Axes>"
      ]
     },
     "metadata": {
      "needs_background": "light"
     },
     "output_type": "display_data"
    }
   ],
   "source": [
    "fig_dims = (8, 4)\n",
    "fig, ax = plt.subplots(figsize=fig_dims)\n",
    "\n",
    "stadium_type_count = play_list_df['StadiumType']\n",
    "sns.countplot(x=stadium_type_count, data=play_list_df,palette='viridis',hue='FieldType')\n",
    "plt.title(\"Number of Injury Occurances by Stadium Type\", fontsize=15)"
   ]
  },
  {
   "cell_type": "markdown",
   "metadata": {
    "papermill": {
     "duration": 0.078735,
     "end_time": "2021-09-20T18:09:05.974320",
     "exception": false,
     "start_time": "2021-09-20T18:09:05.895585",
     "status": "completed"
    },
    "tags": []
   },
   "source": [
    "- Injuries sustained in outdoor stadiums are primarily because of Natural Surfaces.\n",
    "- Injuries sustained in indoor stadiums are primarily because of Synthetic Surfaces.\n",
    "\n",
    "#### Field Type/Surface vs. Temperature"
   ]
  },
  {
   "cell_type": "code",
   "execution_count": 56,
   "metadata": {
    "execution": {
     "iopub.execute_input": "2021-09-20T18:09:06.137220Z",
     "iopub.status.busy": "2021-09-20T18:09:06.136260Z",
     "iopub.status.idle": "2021-09-20T18:09:06.825195Z",
     "shell.execute_reply": "2021-09-20T18:09:06.825809Z",
     "shell.execute_reply.started": "2021-09-20T17:48:35.947551Z"
    },
    "papermill": {
     "duration": 0.771386,
     "end_time": "2021-09-20T18:09:06.825978",
     "exception": false,
     "start_time": "2021-09-20T18:09:06.054592",
     "status": "completed"
    },
    "tags": []
   },
   "outputs": [
    {
     "data": {
      "text/plain": [
       "Text(0.5, 0.98, 'Number of Injury Occurances by Temperature')"
      ]
     },
     "execution_count": 56,
     "metadata": {},
     "output_type": "execute_result"
    },
    {
     "data": {
      "image/png": "[encoded data removed]",
      "text/plain": [
       "<Figure size 864x432 with 2 Axes>"
      ]
     },
     "metadata": {
      "needs_background": "light"
     },
     "output_type": "display_data"
    }
   ],
   "source": [
    "graph = sns.FacetGrid(play_list_df, col=\"FieldType\", height=6)\n",
    "graph.map_dataframe(sns.histplot,x=\"Temperature\",binwidth=1)\n",
    "\n",
    "#Setting the title for the FacetGrid \n",
    "graph.fig.subplots_adjust(top=0.85)\n",
    "graph.fig.suptitle('Number of Injury Occurances by Temperature', fontsize=20)"
   ]
  },
  {
   "cell_type": "markdown",
   "metadata": {
    "papermill": {
     "duration": 0.080841,
     "end_time": "2021-09-20T18:09:06.987659",
     "exception": false,
     "start_time": "2021-09-20T18:09:06.906818",
     "status": "completed"
    },
    "tags": []
   },
   "source": [
    "- There is a rise in injuries on Synthetic surfaces between 67-71 degrees, with the most injuries occurring between 67-68 degrees.\n",
    "- Injuries spike at a few different temperatures for Natural surfaces, with the most injuries occurring between 88-89 degrees.\n",
    "\n",
    "## Player Track Data \n",
    "### Identifying Potential Instances of Injury\n",
    "\n",
    "The player_track_df DataFrame gives us the most information about how the player's body is moving during a play. \n",
    "\n",
    "<i>\"Injuries occur during football games and practice due to the combination of high speeds and full contact. While overuse injuries can occur, traumatic injuries such as concussions are most common. The force applied to either bringing an opponent to the ground or resisting being brought to the ground makes football players prone to injury anywhere on their bodies, regardless of protective equipment.\"</i> - Football Injuries, University of Rochester Medical Center \n",
    "\n",
    "Source: “Football Injuries.” UR Medicine, University of Rochester Medical Center, University of Rochester Medical Center, 2010, www.urmc.rochester.edu/orthopaedics/sports-medicine/football-injuries.cfm. \n",
    "\n",
    "Given the context above, it might be possible to identify the moment of injury by tracking the instant when the maximum change occurs in all the variables associated with movement. \n",
    "\n",
    "We will create a new DataFrame with variables that reflect the player's motion during the play. \n",
    "\n",
    "- delta_dir: Change in angle of player motion\n",
    "- delta_o: Change in player orientation\n",
    "- delta_s: Change in player speed\n",
    "\n",
    "Note: \n",
    "- x and y capture the location of the player on the field and they are not as important in identifying when the injury occured.\n",
    "- dis captures the distance travelled and s captures the speed which is the distance travelled over the time difference so there is no need to include both variables. "
   ]
  },
  {
   "cell_type": "code",
   "execution_count": 57,
   "metadata": {
    "execution": {
     "iopub.execute_input": "2021-09-20T18:09:07.156308Z",
     "iopub.status.busy": "2021-09-20T18:09:07.155422Z",
     "iopub.status.idle": "2021-09-20T18:09:07.169722Z",
     "shell.execute_reply": "2021-09-20T18:09:07.170209Z",
     "shell.execute_reply.started": "2021-09-20T17:48:37.150483Z"
    },
    "papermill": {
     "duration": 0.097695,
     "end_time": "2021-09-20T18:09:07.170374",
     "exception": false,
     "start_time": "2021-09-20T18:09:07.072679",
     "status": "completed"
    },
    "tags": []
   },
   "outputs": [],
   "source": [
    "# Creating a new DataFrame to the change in variables\n",
    "delta_player_track_df = player_track_df['PlayKey'].to_frame()\n",
    "\n",
    "delta_player_track_df['time'] = player_track_df['time']\n",
    "\n",
    "#Adding new columns to reflect the absolute change in variables using DataFrame.diff()\n",
    "#np.where ensures that in case the time is 0.0 the difference is not calculated as this indicates the row is associated with the next PlayKey. In that case the value will be set to 0\n",
    "#np.where(condition,value if condition is true, value if condition is false)\n",
    "\n",
    "delta_player_track_df['delta_dir'] = np.where(player_track_df['time'] == 0, 0, abs(player_track_df['dir'].diff()))\n",
    "delta_player_track_df['delta_o'] = np.where(player_track_df['time'] == 0, 0, abs(player_track_df['o'].diff()))\n",
    "delta_player_track_df['delta_s'] = np.where(player_track_df['time'] == 0, 0, abs(player_track_df['s'].diff()))     "
   ]
  },
  {
   "cell_type": "code",
   "execution_count": 58,
   "metadata": {
    "execution": {
     "iopub.execute_input": "2021-09-20T18:09:07.337569Z",
     "iopub.status.busy": "2021-09-20T18:09:07.336677Z",
     "iopub.status.idle": "2021-09-20T18:09:07.341454Z",
     "shell.execute_reply": "2021-09-20T18:09:07.341865Z",
     "shell.execute_reply.started": "2021-09-20T17:48:38.080147Z"
    },
    "papermill": {
     "duration": 0.090883,
     "end_time": "2021-09-20T18:09:07.342023",
     "exception": false,
     "start_time": "2021-09-20T18:09:07.251140",
     "status": "completed"
    },
    "tags": []
   },
   "outputs": [
    {
     "data": {
      "text/plain": [
       "21905"
      ]
     },
     "execution_count": 58,
     "metadata": {},
     "output_type": "execute_result"
    }
   ],
   "source": [
    "#Checking number of rows\n",
    "delta_player_track_df.shape[0]"
   ]
  },
  {
   "cell_type": "markdown",
   "metadata": {
    "papermill": {
     "duration": 0.079686,
     "end_time": "2021-09-20T18:09:07.501705",
     "exception": false,
     "start_time": "2021-09-20T18:09:07.422019",
     "status": "completed"
    },
    "tags": []
   },
   "source": [
    "Now that we have a DataFrame containing all the necessary variables, we can determine which values are outside the norm for each one of these variables. \n",
    "\n",
    "We are assuming that the injury is sustained as a result of impact, which would be reflected as a sudden change in players normal motion. We will assume any instance where the player's movements are above average across any of these variables indicates a <b>high risk instance</b> where the injury could have occured.  \n",
    "\n",
    "If we assume the data has a gaussian distribution (as the majority of the player's motion does not result in injury), we can calculate the z score for each variable to determine which values are outliers. \n",
    "\n",
    "- A z-score tells us how many standard deviations away a value is from the mean. \n",
    "- Outliers will be values that are more than 3 standard deviations away from the average.\n",
    "- The outliers will be potential instances where the player may have sustained the injury."
   ]
  },
  {
   "cell_type": "code",
   "execution_count": 59,
   "metadata": {
    "execution": {
     "iopub.execute_input": "2021-09-20T18:09:07.665975Z",
     "iopub.status.busy": "2021-09-20T18:09:07.665040Z",
     "iopub.status.idle": "2021-09-20T18:09:07.673994Z",
     "shell.execute_reply": "2021-09-20T18:09:07.674400Z",
     "shell.execute_reply.started": "2021-09-20T17:48:40.077702Z"
    },
    "papermill": {
     "duration": 0.092732,
     "end_time": "2021-09-20T18:09:07.674590",
     "exception": false,
     "start_time": "2021-09-20T18:09:07.581858",
     "status": "completed"
    },
    "tags": []
   },
   "outputs": [],
   "source": [
    "#Calculating z-scores for dataset as a whole\n",
    "from scipy import stats\n",
    "from scipy.stats import zscore\n",
    "\n",
    "z_score_dir = stats.zscore(delta_player_track_df['delta_dir'])\n",
    "z_score_o = stats.zscore(delta_player_track_df['delta_o'])\n",
    "z_score_s = stats.zscore(delta_player_track_df['delta_s'])"
   ]
  },
  {
   "cell_type": "markdown",
   "metadata": {
    "papermill": {
     "duration": 0.080027,
     "end_time": "2021-09-20T18:09:07.835284",
     "exception": false,
     "start_time": "2021-09-20T18:09:07.755257",
     "status": "completed"
    },
    "tags": []
   },
   "source": [
    "## Distribution of Data\n",
    "### Change in Angle of Player Motion"
   ]
  },
  {
   "cell_type": "code",
   "execution_count": 60,
   "metadata": {
    "execution": {
     "iopub.execute_input": "2021-09-20T18:09:07.999829Z",
     "iopub.status.busy": "2021-09-20T18:09:07.998927Z",
     "iopub.status.idle": "2021-09-20T18:09:08.326149Z",
     "shell.execute_reply": "2021-09-20T18:09:08.325713Z",
     "shell.execute_reply.started": "2021-09-20T17:48:42.364327Z"
    },
    "papermill": {
     "duration": 0.41063,
     "end_time": "2021-09-20T18:09:08.326285",
     "exception": false,
     "start_time": "2021-09-20T18:09:07.915655",
     "status": "completed"
    },
    "scrolled": true,
    "tags": []
   },
   "outputs": [
    {
     "data": {
      "text/plain": [
       "Text(0.5, 1.0, 'Change in Angle of Player Motion vs. Time')"
      ]
     },
     "execution_count": 60,
     "metadata": {},
     "output_type": "execute_result"
    },
    {
     "data": {
      "image/png": "[encoded data removed]",
      "text/plain": [
       "<Figure size 864x288 with 1 Axes>"
      ]
     },
     "metadata": {
      "needs_background": "light"
     },
     "output_type": "display_data"
    }
   ],
   "source": [
    "fig_dims = (12, 4)\n",
    "fig, ax = plt.subplots(figsize=fig_dims)\n",
    "\n",
    "highlight = delta_player_track_df[z_score_dir>3]\n",
    "\n",
    "ax.scatter(y='delta_dir',x='time', data=delta_player_track_df)\n",
    "ax.scatter(y='delta_dir',x='time', data=highlight,facecolor=\"red\")\n",
    "ax.set_xlabel(\"Time (s)\")\n",
    "ax.set_ylabel(\"Change in Angle (Degrees)\")\n",
    "ax.set_title(\"Change in Angle of Player Motion vs. Time\",fontsize=20)"
   ]
  },
  {
   "cell_type": "markdown",
   "metadata": {
    "papermill": {
     "duration": 0.081198,
     "end_time": "2021-09-20T18:09:08.489085",
     "exception": false,
     "start_time": "2021-09-20T18:09:08.407887",
     "status": "completed"
    },
    "tags": []
   },
   "source": [
    "<b>Highlighted points have a z-score > 3</b>\n",
    "\n",
    "The majority of plays seem to require some type of instantaneous change in the player's direction of motion in the first 40 seconds of the game. \n",
    "- This could be attributed to execution of plays which requires rapid movement and coordination with other players.\n",
    "- It also suggests that the risk of injury is the greatest in the first 40 seconds of the game. \n",
    "\n",
    "### Change in Player Orientation"
   ]
  },
  {
   "cell_type": "code",
   "execution_count": 61,
   "metadata": {
    "execution": {
     "iopub.execute_input": "2021-09-20T18:09:08.657185Z",
     "iopub.status.busy": "2021-09-20T18:09:08.656240Z",
     "iopub.status.idle": "2021-09-20T18:09:08.979451Z",
     "shell.execute_reply": "2021-09-20T18:09:08.979999Z",
     "shell.execute_reply.started": "2021-09-20T17:48:44.556865Z"
    },
    "papermill": {
     "duration": 0.409254,
     "end_time": "2021-09-20T18:09:08.980179",
     "exception": false,
     "start_time": "2021-09-20T18:09:08.570925",
     "status": "completed"
    },
    "tags": []
   },
   "outputs": [
    {
     "data": {
      "text/plain": [
       "Text(0.5, 1.0, 'Change in Player Orientation vs. Time')"
      ]
     },
     "execution_count": 61,
     "metadata": {},
     "output_type": "execute_result"
    },
    {
     "data": {
      "image/png": "[encoded data removed]",
      "text/plain": [
       "<Figure size 864x288 with 1 Axes>"
      ]
     },
     "metadata": {
      "needs_background": "light"
     },
     "output_type": "display_data"
    }
   ],
   "source": [
    "fig_dims = (12, 4)\n",
    "fig, ax = plt.subplots(figsize=fig_dims)\n",
    "\n",
    "highlight = delta_player_track_df[z_score_o>3]\n",
    "\n",
    "ax.scatter(y='delta_o',x='time', data=delta_player_track_df)\n",
    "ax.scatter(y='delta_o',x='time', data=highlight,facecolor=\"red\")\n",
    "ax.set_xlabel(\"Time (s)\")\n",
    "ax.set_ylabel(\"Change in Orientation (Degrees)\")\n",
    "ax.set_title(\"Change in Player Orientation vs. Time\",fontsize=20)"
   ]
  },
  {
   "cell_type": "markdown",
   "metadata": {
    "papermill": {
     "duration": 0.083035,
     "end_time": "2021-09-20T18:09:09.148872",
     "exception": false,
     "start_time": "2021-09-20T18:09:09.065837",
     "status": "completed"
    },
    "tags": []
   },
   "source": [
    "<b>Highlighted points have a z-score > 3</b>\n",
    "\n",
    "Correlating with the Change in Angle, the majority of plays seem to require some type of instantaneous change in the direction the player is facing in the first 40 seconds of the game. \n",
    "- The correlation makes sense as the player would orient themselves in a certain direction and begin/change angle of motion simultaneously during a play.  \n",
    "- Again, it also suggests that the risk of injury is the greatest in the first 40 seconds of the game. \n",
    "\n",
    "### Change in Player Speed"
   ]
  },
  {
   "cell_type": "code",
   "execution_count": 62,
   "metadata": {
    "execution": {
     "iopub.execute_input": "2021-09-20T18:09:09.332552Z",
     "iopub.status.busy": "2021-09-20T18:09:09.331905Z",
     "iopub.status.idle": "2021-09-20T18:09:09.641243Z",
     "shell.execute_reply": "2021-09-20T18:09:09.641900Z",
     "shell.execute_reply.started": "2021-09-20T17:48:46.567116Z"
    },
    "papermill": {
     "duration": 0.409658,
     "end_time": "2021-09-20T18:09:09.642092",
     "exception": false,
     "start_time": "2021-09-20T18:09:09.232434",
     "status": "completed"
    },
    "tags": []
   },
   "outputs": [
    {
     "data": {
      "text/plain": [
       "Text(0.5, 1.0, 'Change in Player Speed vs. Time')"
      ]
     },
     "execution_count": 62,
     "metadata": {},
     "output_type": "execute_result"
    },
    {
     "data": {
      "image/png": "[encoded data removed]",
      "text/plain": [
       "<Figure size 864x288 with 1 Axes>"
      ]
     },
     "metadata": {
      "needs_background": "light"
     },
     "output_type": "display_data"
    }
   ],
   "source": [
    "fig_dims = (12, 4)\n",
    "fig, ax = plt.subplots(figsize=fig_dims)\n",
    "\n",
    "highlight = delta_player_track_df[z_score_s>3]\n",
    "\n",
    "ax.scatter(y='delta_s',x='time', data=delta_player_track_df)\n",
    "ax.scatter(y='delta_s',x='time', data=highlight,facecolor=\"red\")\n",
    "ax.set_xlabel(\"Time (s)\")\n",
    "ax.set_ylabel(\"Change in Speed (Yards per Second)\")\n",
    "ax.set_title(\"Change in Player Speed vs. Time\",fontsize=20)"
   ]
  },
  {
   "cell_type": "markdown",
   "metadata": {
    "papermill": {
     "duration": 0.106519,
     "end_time": "2021-09-20T18:09:09.833268",
     "exception": false,
     "start_time": "2021-09-20T18:09:09.726749",
     "status": "completed"
    },
    "tags": []
   },
   "source": [
    "<b>Highlighted points have a z-score > 3</b>\n",
    "\n",
    "Generally the change in speed values are clustered closer together, indicating that the variation in speed is somewhat lower for most of these plays. \n",
    "- Rapid changes in speed are associated with potential instances of injury, which makes sense as these could indicate impact\n",
    "\n",
    "### Key Takeaways from Visualizing Distributions\n",
    "None of the variables follow a gaussian distribution, however, the variables do seem to cluster below certain values. which can be helpful in visually identifying outliers. \n",
    "\n",
    "Identifying points with a z-score > 3 does a somewhat decent job of identifying outliers so we will proceed with this method. However, we will calculate the z-scores for the variables for each PlayKey instead of the data as whole to improve the accuracy a bit. \n",
    "\n",
    "## Identifying High Risk Potential Instances of Injury\n"
   ]
  },
  {
   "cell_type": "code",
   "execution_count": 63,
   "metadata": {
    "execution": {
     "iopub.execute_input": "2021-09-20T18:09:10.023220Z",
     "iopub.status.busy": "2021-09-20T18:09:10.022584Z",
     "iopub.status.idle": "2021-09-20T18:09:10.664261Z",
     "shell.execute_reply": "2021-09-20T18:09:10.664746Z",
     "shell.execute_reply.started": "2021-09-20T17:48:48.639405Z"
    },
    "papermill": {
     "duration": 0.73811,
     "end_time": "2021-09-20T18:09:10.664945",
     "exception": false,
     "start_time": "2021-09-20T18:09:09.926835",
     "status": "completed"
    },
    "tags": []
   },
   "outputs": [],
   "source": [
    "#Creating a DataFrame to store all the high risk instances\n",
    "high_risk_playkey = pd.DataFrame(columns = ['PlayKey','time','delta_dir','delta_o','delta_s'])\n",
    "\n",
    "#Creating a groupby object so we can retrive the keys which in this case are the PlayKeys\n",
    "groups = delta_player_track_df.groupby('PlayKey')\n",
    "\n",
    "# extract keys from groups\n",
    "keys = groups.groups.keys()\n",
    "\n",
    "#Creating a for loop that will calculate the z-scores for each individual PlayKey and check if any of the values are more than three standard deviations away\n",
    "for i in keys: \n",
    "    #Creating a Dataframe with the desired rows for each Playkey\n",
    "    i_df = delta_player_track_df[delta_player_track_df['PlayKey']==i]\n",
    "    \n",
    "    #Calculate z-scores for this PlayKey\n",
    "    z_score_dir = stats.zscore(i_df['delta_dir'])\n",
    "    z_score_o = stats.zscore(i_df['delta_o'])\n",
    "    z_score_s = stats.zscore(i_df['delta_s'])\n",
    "    \n",
    "    #Filter by z-scores exceeding 3\n",
    "    i_df = i_df[(z_score_dir>3) | (z_score_o>3) | (z_score_s>3)]\n",
    "    \n",
    "    #Attaching the DataFrame to the high_risk_playkey DataFrame \n",
    "    high_risk_playkey = pd.concat([high_risk_playkey, i_df], axis=0)"
   ]
  },
  {
   "cell_type": "code",
   "execution_count": 64,
   "metadata": {
    "execution": {
     "iopub.execute_input": "2021-09-20T18:09:10.840082Z",
     "iopub.status.busy": "2021-09-20T18:09:10.839184Z",
     "iopub.status.idle": "2021-09-20T18:09:10.841866Z",
     "shell.execute_reply": "2021-09-20T18:09:10.842302Z",
     "shell.execute_reply.started": "2021-09-20T17:48:49.998475Z"
    },
    "papermill": {
     "duration": 0.092301,
     "end_time": "2021-09-20T18:09:10.842457",
     "exception": false,
     "start_time": "2021-09-20T18:09:10.750156",
     "status": "completed"
    },
    "tags": []
   },
   "outputs": [
    {
     "data": {
      "text/plain": [
       "1192"
      ]
     },
     "execution_count": 64,
     "metadata": {},
     "output_type": "execute_result"
    }
   ],
   "source": [
    "high_risk_playkey.shape[0]"
   ]
  },
  {
   "cell_type": "code",
   "execution_count": 65,
   "metadata": {
    "execution": {
     "iopub.execute_input": "2021-09-20T18:09:11.020754Z",
     "iopub.status.busy": "2021-09-20T18:09:11.020144Z",
     "iopub.status.idle": "2021-09-20T18:09:11.023874Z",
     "shell.execute_reply": "2021-09-20T18:09:11.024262Z",
     "shell.execute_reply.started": "2021-09-20T17:48:50.817557Z"
    },
    "papermill": {
     "duration": 0.095319,
     "end_time": "2021-09-20T18:09:11.024422",
     "exception": false,
     "start_time": "2021-09-20T18:09:10.929103",
     "status": "completed"
    },
    "scrolled": true,
    "tags": []
   },
   "outputs": [
    {
     "data": {
      "text/plain": [
       "76"
      ]
     },
     "execution_count": 65,
     "metadata": {},
     "output_type": "execute_result"
    }
   ],
   "source": [
    "#Checking if the DataFrame contains all the PlayKey values\n",
    "len(pd.unique(high_risk_playkey['PlayKey']))"
   ]
  },
  {
   "cell_type": "markdown",
   "metadata": {
    "papermill": {
     "duration": 0.084814,
     "end_time": "2021-09-20T18:09:11.195625",
     "exception": false,
     "start_time": "2021-09-20T18:09:11.110811",
     "status": "completed"
    },
    "tags": []
   },
   "source": [
    "We now have a DataFrame with all the high risk instances for all PlayKey values. Although there are still a significant number of instances for each PlayKey we have narrowed down the values from our original data. \n",
    "\n",
    "This allows us to answer the following questions:\n",
    "\n",
    "- On average, when does a potential instance of injury occur during a play for each type of surface?\n",
    "- How many potential instances of injury occur during a play for each type of surface?\n",
    "\n",
    "Note:\n",
    "- One or more instances in each play could represent when the injury occured (Example, multiple tackles resulting in a knee injury.). \n",
    "- The other instances could be a result of regular in-game moves that require instantaneous movement."
   ]
  },
  {
   "cell_type": "code",
   "execution_count": 66,
   "metadata": {
    "execution": {
     "iopub.execute_input": "2021-09-20T18:09:11.368607Z",
     "iopub.status.busy": "2021-09-20T18:09:11.368002Z",
     "iopub.status.idle": "2021-09-20T18:09:11.381984Z",
     "shell.execute_reply": "2021-09-20T18:09:11.381435Z",
     "shell.execute_reply.started": "2021-09-20T17:48:53.037204Z"
    },
    "papermill": {
     "duration": 0.101598,
     "end_time": "2021-09-20T18:09:11.382112",
     "exception": false,
     "start_time": "2021-09-20T18:09:11.280514",
     "status": "completed"
    },
    "tags": []
   },
   "outputs": [],
   "source": [
    "#Creating a new DataFrame with the PlayKeys and associated surface/field type\n",
    "surfaces = play_list_df[['PlayKey','FieldType']]\n",
    "#Merging the two DataFrames to add the surface/field type values\n",
    "high_risk_playkey = pd.merge(left=high_risk_playkey, right=surfaces, left_on='PlayKey', right_on='PlayKey')"
   ]
  },
  {
   "cell_type": "code",
   "execution_count": 67,
   "metadata": {
    "execution": {
     "iopub.execute_input": "2021-09-20T18:09:11.555137Z",
     "iopub.status.busy": "2021-09-20T18:09:11.554570Z",
     "iopub.status.idle": "2021-09-20T18:09:11.579732Z",
     "shell.execute_reply": "2021-09-20T18:09:11.579283Z",
     "shell.execute_reply.started": "2021-09-20T17:48:53.581221Z"
    },
    "papermill": {
     "duration": 0.112774,
     "end_time": "2021-09-20T18:09:11.579870",
     "exception": false,
     "start_time": "2021-09-20T18:09:11.467096",
     "status": "completed"
    },
    "scrolled": true,
    "tags": []
   },
   "outputs": [
    {
     "data": {
      "text/html": [
       "<div>\n",
       "<style scoped>\n",
       "    .dataframe tbody tr th:only-of-type {\n",
       "        vertical-align: middle;\n",
       "    }\n",
       "\n",
       "    .dataframe tbody tr th {\n",
       "        vertical-align: top;\n",
       "    }\n",
       "\n",
       "    .dataframe thead th {\n",
       "        text-align: right;\n",
       "    }\n",
       "</style>\n",
       "<table border=\"1\" class=\"dataframe\">\n",
       "  <thead>\n",
       "    <tr style=\"text-align: right;\">\n",
       "      <th></th>\n",
       "      <th>number_of_instances</th>\n",
       "      <th>min_time</th>\n",
       "      <th>max_time</th>\n",
       "      <th>avg_time</th>\n",
       "    </tr>\n",
       "    <tr>\n",
       "      <th>FieldType</th>\n",
       "      <th></th>\n",
       "      <th></th>\n",
       "      <th></th>\n",
       "      <th></th>\n",
       "    </tr>\n",
       "  </thead>\n",
       "  <tbody>\n",
       "    <tr>\n",
       "      <th>Natural</th>\n",
       "      <td>545</td>\n",
       "      <td>0.1</td>\n",
       "      <td>37.1</td>\n",
       "      <td>16.0</td>\n",
       "    </tr>\n",
       "    <tr>\n",
       "      <th>Synthetic</th>\n",
       "      <td>647</td>\n",
       "      <td>0.1</td>\n",
       "      <td>97.6</td>\n",
       "      <td>17.1</td>\n",
       "    </tr>\n",
       "  </tbody>\n",
       "</table>\n",
       "</div>"
      ],
      "text/plain": [
       "           number_of_instances  min_time  max_time  avg_time\n",
       "FieldType                                                   \n",
       "Natural                    545       0.1      37.1      16.0\n",
       "Synthetic                  647       0.1      97.6      17.1"
      ]
     },
     "execution_count": 67,
     "metadata": {},
     "output_type": "execute_result"
    }
   ],
   "source": [
    "surface_risk = high_risk_playkey.groupby('FieldType').agg(number_of_instances=('FieldType',pd.Series.value_counts),min_time=('time',np.min),max_time=('time',np.max),avg_time=('time',np.mean))\n",
    "surface_risk.round(1)"
   ]
  },
  {
   "cell_type": "markdown",
   "metadata": {
    "papermill": {
     "duration": 0.085357,
     "end_time": "2021-09-20T18:09:11.750587",
     "exception": false,
     "start_time": "2021-09-20T18:09:11.665230",
     "status": "completed"
    },
    "tags": []
   },
   "source": [
    "- There are 18.72% more instances of potential injury during plays on Synthetic surfaces as opposed to Natural surfaces.\n",
    "- The average time for a potential instance of injury to occur is slightly lower on natural surfaces as opposed to Synthetic."
   ]
  },
  {
   "cell_type": "markdown",
   "metadata": {
    "papermill": {
     "duration": 0.084799,
     "end_time": "2021-09-20T18:09:11.920989",
     "exception": false,
     "start_time": "2021-09-20T18:09:11.836190",
     "status": "completed"
    },
    "tags": []
   },
   "source": [
    "# Summary of Data Analysis\n",
    "\n",
    "Overall, Synthetic surfaces result in <b>13.89%</b> more injuries than Natural surfaces\n",
    "- Knee and Ankle injuries have the highest occurrences.\n",
    "- The majority of injuries result in players missing between 1 day or more or 7 days or more.\n",
    "\n",
    "### Days Missed\n",
    "Injuries on synthetic surfaces result in players missing more days than those on natural surfaces. \n",
    "- Players have a relatively higher likelihood of suffering medium duration injuries on Natural surfaces.\n",
    "- Players have a relatively higher likelihood of suffering short, long and indefinite duration injuries on Synthetic surfaces. \n",
    "\n",
    "\n",
    "### Roster Position\n",
    "- Natural surfaces result in more injuries for players in the Linebacker, Safety, Defensive Lineman and Offensive Lineman roster positions.\n",
    "- Synthetic surfaces in more injuries for players in the Wide Receiver, Cornerback and Running Back roster positions\n",
    "\n",
    "<u>Note:</u> The Roster Position refers to the official position assigned to the player but it may vary in the actual play itself. The Position refers to the player's position during the actual play so this information must be verified with the Position data.\n",
    "\n",
    "### Position\n",
    "Players in the Linebacker (LB) position group, who sustain the most injuries during a play, sustain <b>more injuries on Natural surfaces than Synthetic ones.</b>\n",
    "- Players in 3 out of 7 position groups sustain more injuries on Synthetic Surfaces.\n",
    "- Players in 3 out of 7 position groups sustain more injuries on Natural Surfaces.\n",
    "- Players in 1 out of 7 position groups sustain about the same injuries on both surfaces.\n",
    "\n",
    "### Position Group\n",
    "Players in the Linebacker (LB) position group, who sustain the most injuries during a play, sustain <b>more injuries on Natural surfaces than Synthetic ones.</b>\n",
    "- Players in 3 out of 7 position groups sustain more injuries on Synthetic Surfaces.\n",
    "- Players in 3 out of 7 position groups sustain more injuries on Natural Surfaces.\n",
    "- Players in 1 out of 7 position groups sustain about the same injuries on both surfaces.\n",
    "\n",
    "### Stadium Type\n",
    "- Injuries sustained in outdoor stadiums are primarily because of Natural Surfaces.\n",
    "- Injuries sustained in indoor stadiums are primarily because of Synthetic Surfaces.\n",
    "\n",
    "## Identifying Potential Instances of Injury\n",
    "\n",
    "We are assuming that the injury is sustained as a result of impact, which would be reflected as a sudden change in players normal motion. We will assume any instance where the player's movements are out of the ordinary across the variables in the Player Track Data indicates a <b>high risk instance</b> where the injury could have occured.  \n",
    "- The majority of plays seem to require some type of instantaneous change in the player's direction of motion and orientation in the first 40 seconds of the game.\n",
    "- The risk of injury is also the greatest during these first 40 seconds of the game.\n",
    "- Generally the variation in player speed is somewhat lower for most of these plays.\n",
    "- There are 18.72% more instances of potential injury during plays on Synthetic surfaces as opposed to Natural surfaces.\n",
    "- The average time for a potential instance of injury to occur is slightly lower on natural surfaces as opposed to Synthetic."
   ]
  }
 ],
 "metadata": {
  "kernelspec": {
   "display_name": "Python 3",
   "language": "python",
   "name": "python3"
  },
  "language_info": {
   "codemirror_mode": {
    "name": "ipython",
    "version": 3
   },
   "file_extension": ".py",
   "mimetype": "text/x-python",
   "name": "python",
   "nbconvert_exporter": "python",
   "pygments_lexer": "ipython3",
   "version": "3.8.5"
  },
  "papermill": {
   "default_parameters": {},
   "duration": 157.946086,
   "end_time": "2021-09-20T18:09:14.015374",
   "environment_variables": {},
   "exception": null,
   "input_path": "__notebook__.ipynb",
   "output_path": "__notebook__.ipynb",
   "parameters": {},
   "start_time": "2021-09-20T18:06:36.069288",
   "version": "2.3.3"
  }
 },
 "nbformat": 4,
 "nbformat_minor": 5
}
